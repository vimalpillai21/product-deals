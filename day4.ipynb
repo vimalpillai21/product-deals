{
 "cells": [
  {
   "cell_type": "code",
   "execution_count": 1,
   "id": "b201be1d-4271-467a-91ed-87d791aedc02",
   "metadata": {},
   "outputs": [],
   "source": [
    "from dotenv import load_dotenv\n",
    "from agents.messaging_agent import MessagingAgent"
   ]
  },
  {
   "cell_type": "code",
   "execution_count": 2,
   "id": "a66729ee-6b0a-453d-80c7-9464f90abf36",
   "metadata": {},
   "outputs": [
    {
     "data": {
      "text/plain": [
       "True"
      ]
     },
     "execution_count": 2,
     "metadata": {},
     "output_type": "execute_result"
    }
   ],
   "source": [
    "load_dotenv(override=True)"
   ]
  },
  {
   "cell_type": "code",
   "execution_count": 3,
   "id": "c9d784a2-d8ee-462a-9ced-9a7eceb33d85",
   "metadata": {},
   "outputs": [],
   "source": [
    "DB = \"products_vectorstore\""
   ]
  },
  {
   "cell_type": "code",
   "execution_count": 4,
   "id": "e52ce44e-3ac4-4299-b33a-2e2909111820",
   "metadata": {},
   "outputs": [],
   "source": [
    "agent = MessagingAgent()"
   ]
  },
  {
   "cell_type": "code",
   "execution_count": 5,
   "id": "c38677e5-33f4-4173-b319-c788f59e8bab",
   "metadata": {},
   "outputs": [],
   "source": [
    "agent.push(\"MASSIVE NEWS\")"
   ]
  },
  {
   "cell_type": "code",
   "execution_count": 6,
   "id": "cd63fcdf-578d-466f-9fd2-c0c3ef10ab2c",
   "metadata": {},
   "outputs": [],
   "source": [
    "import chromadb\n",
    "DB = \"products_vectorstore\"\n",
    "client = chromadb.PersistentClient(path=DB)\n",
    "collection = client.get_or_create_collection(\"products\")"
   ]
  },
  {
   "cell_type": "code",
   "execution_count": 7,
   "id": "8e35d24d-d830-467f-bca9-97113664a0e2",
   "metadata": {},
   "outputs": [
    {
     "data": {
      "text/plain": [
       "Collection(name=products)"
      ]
     },
     "execution_count": 7,
     "metadata": {},
     "output_type": "execute_result"
    }
   ],
   "source": [
    "collection"
   ]
  },
  {
   "cell_type": "code",
   "execution_count": 8,
   "id": "3f78557c-8743-4d73-9b89-c39e24529be7",
   "metadata": {},
   "outputs": [],
   "source": [
    "from agents.planning_agent import PlanningAgent"
   ]
  },
  {
   "cell_type": "code",
   "execution_count": 9,
   "id": "38564d28-07fe-4216-b010-fae791b6a7ec",
   "metadata": {},
   "outputs": [],
   "source": [
    "planner = PlanningAgent(collection)"
   ]
  },
  {
   "cell_type": "code",
   "execution_count": 10,
   "id": "b2adbbea-971d-4079-a8dd-8564cfa53502",
   "metadata": {},
   "outputs": [
    {
     "data": {
      "text/plain": [
       "Opportunity(deal=Deal(product_description=\"The Samsung Odyssey Neo G7 is a 43-inch 4K gaming monitor featuring a native resolution of 3840x2160. It supports a 144Hz refresh rate with AMD FreeSync technology, providing smooth gameplay. The monitor offers Smart TV apps, a USB 3.0 hub, one DisplayPort, and two HDMI inputs for versatile connectivity. It's designed to deliver immersive visuals and responsiveness tailored to gamers.\", price=570.0, url='https://www.dealnews.com/products/Samsung/Samsung-Odyssey-Neo-G7-43-4-K-144-Hz-Mini-LED-Free-Sync-Smart-Monitor/459768.html?iref=rss-f1912'), estimate=886.3302626802187, discount=316.33026268021865)"
      ]
     },
     "execution_count": 10,
     "metadata": {},
     "output_type": "execute_result"
    }
   ],
   "source": [
    "planner.plan()"
   ]
  },
  {
   "cell_type": "code",
   "execution_count": null,
   "id": "7a914070-25eb-46cd-bc53-ca6575349021",
   "metadata": {},
   "outputs": [],
   "source": []
  }
 ],
 "metadata": {
  "kernelspec": {
   "display_name": "Python 3 (ipykernel)",
   "language": "python",
   "name": "python3"
  },
  "language_info": {
   "codemirror_mode": {
    "name": "ipython",
    "version": 3
   },
   "file_extension": ".py",
   "mimetype": "text/x-python",
   "name": "python",
   "nbconvert_exporter": "python",
   "pygments_lexer": "ipython3",
   "version": "3.11.13"
  }
 },
 "nbformat": 4,
 "nbformat_minor": 5
}
