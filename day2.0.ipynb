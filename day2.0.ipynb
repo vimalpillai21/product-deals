{
 "cells": [
  {
   "cell_type": "code",
   "execution_count": 1,
   "id": "c70dc197-417c-44f6-b4c6-90a821a2d8fe",
   "metadata": {},
   "outputs": [],
   "source": [
    "import re\n",
    "import os\n",
    "import json\n",
    "import random\n",
    "from tqdm.notebook import tqdm\n",
    "from dotenv import load_dotenv\n",
    "from huggingface_hub import login\n",
    "import numpy as np\n",
    "import pickle\n",
    "from sentence_transformers import SentenceTransformer\n",
    "from datasets import load_dataset, Dataset, DatasetDict\n",
    "import chromadb\n",
    "from sklearn.manifold import TSNE\n",
    "import plotly.graph_objects as go"
   ]
  },
  {
   "cell_type": "code",
   "execution_count": 2,
   "id": "7e224d63-42a2-479b-a297-05f5cfa93d42",
   "metadata": {},
   "outputs": [
    {
     "data": {
      "text/plain": [
       "True"
      ]
     },
     "execution_count": 2,
     "metadata": {},
     "output_type": "execute_result"
    }
   ],
   "source": [
    "load_dotenv(override=True)"
   ]
  },
  {
   "cell_type": "code",
   "execution_count": 3,
   "id": "ba0719fa-d497-457f-a315-94608d9795b0",
   "metadata": {},
   "outputs": [],
   "source": [
    "hf_token = os.getenv(\"HF_TOKEN\")"
   ]
  },
  {
   "cell_type": "code",
   "execution_count": 4,
   "id": "6ecef620-efea-40e8-b438-5393d86ac427",
   "metadata": {},
   "outputs": [
    {
     "name": "stderr",
     "output_type": "stream",
     "text": [
      "Note: Environment variable`HF_TOKEN` is set and is the current active token independently from the token you've just configured.\n"
     ]
    }
   ],
   "source": [
    "login(hf_token)"
   ]
  },
  {
   "cell_type": "code",
   "execution_count": 5,
   "id": "12b1f904-bff8-4bc4-a32b-66328113aa18",
   "metadata": {},
   "outputs": [],
   "source": [
    "from items import Item"
   ]
  },
  {
   "cell_type": "code",
   "execution_count": 6,
   "id": "25f88095-0fb1-4674-8804-288962bd5bf3",
   "metadata": {},
   "outputs": [],
   "source": [
    "with open(\"train.pkl\",\"rb\") as file:\n",
    "    train = pickle.load(file)"
   ]
  },
  {
   "cell_type": "code",
   "execution_count": 7,
   "id": "a254f9e0-bae6-4ba9-88bf-4fe1484280ff",
   "metadata": {},
   "outputs": [],
   "source": [
    "with open(\"test.pkl\",\"rb\") as file:\n",
    "    test = pickle.load(file)"
   ]
  },
  {
   "cell_type": "code",
   "execution_count": 8,
   "id": "f43e984e-a5e1-406e-9389-09ec15ed5535",
   "metadata": {},
   "outputs": [
    {
     "name": "stdout",
     "output_type": "stream",
     "text": [
      "How much does this cost to the nearest dollar?\n",
      "\n",
      "Delphi FG0166 Fuel Pump Module\n",
      "Delphi brings 80 years of OE Heritage into each Delphi pump, ensuring quality and fitment for each Delphi part. Part is validated, tested and matched to the right vehicle application Delphi brings 80 years of OE Heritage into each Delphi assembly, ensuring quality and fitment for each Delphi part Always be sure to check and clean fuel tank to avoid unnecessary returns Rigorous OE-testing ensures the pump can withstand extreme temperatures Brand Delphi, Fit Type Vehicle Specific Fit, Dimensions LxWxH 19.7 x 7.7 x 5.1 inches, Weight 2.2 Pounds, Auto Part Position Unknown, Operation Mode Mechanical, Manufacturer Delphi, Model FUEL PUMP, Dimensions 19.7\n",
      "\n",
      "Price is $\n"
     ]
    }
   ],
   "source": [
    "print(train[0].test_prompt())"
   ]
  },
  {
   "cell_type": "code",
   "execution_count": 9,
   "id": "68ba443b-f812-4029-a1a7-77b7ed302fdd",
   "metadata": {},
   "outputs": [],
   "source": [
    "DB = \"products_vectorstore\""
   ]
  },
  {
   "cell_type": "code",
   "execution_count": 10,
   "id": "64b86ac5-bc09-402a-acb8-b1070a5d2893",
   "metadata": {},
   "outputs": [],
   "source": [
    "# !pip install chromadb==0.5.0"
   ]
  },
  {
   "cell_type": "code",
   "execution_count": 11,
   "id": "877ecf68-6481-4fed-8aaf-956fd46288ff",
   "metadata": {},
   "outputs": [],
   "source": [
    "client = chromadb.PersistentClient(path=DB)"
   ]
  },
  {
   "cell_type": "code",
   "execution_count": 12,
   "id": "45531d53-9442-4c0a-baa5-c3e368be5acd",
   "metadata": {},
   "outputs": [],
   "source": [
    "collection_name = \"products\"\n",
    "\n",
    "existing_collection_names = client.list_collections()\n",
    "if collection_name in existing_collection_names:\n",
    "    client.delete_collection(collection_name)\n",
    "    print(f\"Deleted collection name: {collection_name}\")\n",
    "collection = client.create_collection(collection_name)"
   ]
  },
  {
   "cell_type": "code",
   "execution_count": 13,
   "id": "51ae62a1-a6c1-4cee-bd04-d26589f28cd4",
   "metadata": {},
   "outputs": [],
   "source": [
    "model = SentenceTransformer('sentence-transformers/all-MiniLM-L6-v2')"
   ]
  },
  {
   "cell_type": "code",
   "execution_count": 14,
   "id": "783aa0a3-0f2c-410b-a8e4-46ff594aef49",
   "metadata": {},
   "outputs": [
    {
     "data": {
      "text/plain": [
       "array([-5.20291142e-02,  8.64912421e-02,  1.52621055e-02,  6.82936329e-03,\n",
       "       -5.85784875e-02, -3.50730829e-02,  8.33703056e-02,  1.01704206e-02,\n",
       "        3.77711281e-02,  2.21600421e-02,  2.68390030e-02, -7.37570673e-02,\n",
       "       -4.87001762e-02,  1.18465768e-02,  5.70595078e-02, -6.19011931e-03,\n",
       "        6.88730506e-03, -1.32260183e-02, -1.34120494e-01,  1.14312042e-02,\n",
       "        3.37507650e-02,  3.22072655e-02, -1.69004202e-02, -2.96870042e-02,\n",
       "       -1.16879039e-01,  3.18301320e-02,  6.00073263e-02,  3.71701866e-02,\n",
       "        4.54801247e-02,  4.81947372e-03,  4.80717234e-02,  5.91164343e-02,\n",
       "       -1.88030377e-02, -1.86225567e-02,  3.14410850e-02, -2.33333348e-03,\n",
       "       -5.26830815e-02, -3.36500853e-02,  1.32554859e-01, -6.88477308e-02,\n",
       "        7.90474489e-02, -5.06058745e-02,  1.97300576e-02, -6.23440668e-02,\n",
       "        8.78800824e-02, -9.63441432e-02, -2.66774818e-02, -1.42193837e-02,\n",
       "        1.51364699e-01, -3.69481705e-02, -4.05185744e-02, -5.28324768e-02,\n",
       "        3.55444290e-02,  4.07570265e-02,  1.46810114e-01, -2.77795848e-02,\n",
       "        4.01274711e-02, -3.27998623e-02,  2.36903168e-02, -3.14161591e-02,\n",
       "       -5.77631593e-02,  1.41340205e-02,  2.40001492e-02, -1.53533267e-02,\n",
       "       -4.84199869e-03, -6.12528548e-02, -3.50701436e-02, -3.21705304e-02,\n",
       "       -6.72959462e-02,  2.39777695e-02, -7.88192824e-02,  3.09420284e-02,\n",
       "        4.34354246e-02,  6.11380488e-02, -9.12138149e-02, -3.19881141e-02,\n",
       "        5.77921867e-02,  1.05930436e-02,  1.16501050e-02, -3.09256092e-02,\n",
       "        2.46918816e-02, -1.28911272e-01,  1.56168994e-02,  5.03252856e-02,\n",
       "       -8.08514189e-03,  1.66185237e-02,  3.73483188e-02, -2.16326155e-02,\n",
       "       -1.83426938e-03,  4.13809791e-02, -9.45269540e-02,  3.26551199e-02,\n",
       "        2.45106798e-02, -1.88610666e-02, -3.72705460e-02, -1.01891413e-01,\n",
       "        2.34250017e-02, -1.88134387e-02, -6.89928979e-02,  1.46135494e-01,\n",
       "       -3.97032872e-02,  4.82441708e-02,  2.03430746e-02,  4.51862141e-02,\n",
       "       -8.77812430e-02,  1.79699697e-02, -4.12487499e-02, -1.96728464e-02,\n",
       "        1.01401899e-02,  4.32884693e-02, -9.70876962e-02, -4.80679683e-02,\n",
       "       -4.42449227e-02, -4.55412455e-02,  6.54860288e-02, -1.66662354e-02,\n",
       "       -1.00215618e-02,  3.50526907e-02, -3.77431661e-02, -9.05273855e-02,\n",
       "       -2.59102266e-02, -1.81543622e-02, -2.14390438e-02,  7.18649924e-02,\n",
       "       -2.49042604e-02, -1.02638200e-01,  2.88248230e-02,  9.15356257e-34,\n",
       "        7.16583058e-02, -1.96974184e-02,  3.64356041e-02,  3.00557446e-02,\n",
       "       -1.24239456e-02,  2.53846031e-02, -9.13752764e-02, -3.01103294e-02,\n",
       "        7.90839363e-03,  9.29596543e-04, -7.44487494e-02,  1.34063615e-02,\n",
       "       -4.71933447e-02, -3.61530855e-02,  5.96485995e-02,  1.19474409e-02,\n",
       "       -2.72452347e-02,  2.29497422e-02, -5.47883436e-02,  3.09285577e-02,\n",
       "        2.86378153e-02, -6.75947294e-02,  3.27623375e-02, -2.94474438e-02,\n",
       "        2.34686378e-02, -2.97539607e-02,  7.63248727e-02, -8.21371004e-02,\n",
       "        2.85095349e-02,  2.82703191e-02,  2.74241772e-02, -7.18516950e-03,\n",
       "       -2.86101829e-02, -4.86750454e-02, -9.23017189e-02, -3.60148549e-02,\n",
       "       -1.26660131e-02, -6.14250600e-02, -4.41773050e-02,  1.06668770e-02,\n",
       "       -6.70389098e-04,  2.34338287e-02, -1.95643790e-02, -1.84202823e-03,\n",
       "       -9.96924285e-03,  2.14046370e-02,  4.48981375e-02, -1.16252825e-02,\n",
       "        2.03930438e-02,  8.98762569e-02, -9.57910419e-02,  1.57739175e-03,\n",
       "       -9.62462500e-02,  1.63363628e-02, -7.30536319e-03,  2.37324759e-02,\n",
       "        3.95840257e-02, -2.24512648e-02,  5.88063858e-02,  2.33417135e-02,\n",
       "        1.10068768e-02, -2.42800312e-03, -7.67876729e-02,  1.98732447e-02,\n",
       "       -6.93968236e-02,  3.65122072e-02,  5.99392653e-02, -2.39848569e-02,\n",
       "        3.46120633e-02, -4.31537926e-02, -5.47859892e-02, -1.70497445e-03,\n",
       "       -2.63696704e-02,  2.95580775e-02, -4.75933019e-04,  3.73785868e-02,\n",
       "        7.43236812e-03,  3.52888294e-02, -2.86602546e-02,  2.10012216e-02,\n",
       "        2.70084100e-04,  5.73514439e-02,  3.12364567e-02, -3.68517116e-02,\n",
       "        7.10419491e-02,  8.44191089e-02, -6.46938682e-02, -8.68578926e-02,\n",
       "       -2.68013403e-02, -4.80565010e-03,  3.37027609e-02, -1.22820009e-02,\n",
       "        5.22622727e-02,  2.49517313e-03, -4.40519005e-02, -2.80706802e-33,\n",
       "        8.58593732e-02, -2.85494584e-03, -6.94281906e-02, -3.15615200e-02,\n",
       "       -8.93369224e-03, -6.11163527e-02, -3.03315930e-02,  1.21438891e-01,\n",
       "       -3.58392559e-02,  5.32164471e-04,  5.79289570e-02,  1.98649745e-02,\n",
       "        8.19647834e-02,  6.52815104e-02,  1.00699052e-01, -3.34909000e-02,\n",
       "        4.64666225e-02,  1.13945030e-01, -1.28774457e-02, -4.61972430e-02,\n",
       "        4.90608998e-02, -5.87140881e-02, -2.73003094e-02, -7.80339465e-02,\n",
       "       -1.54719045e-02, -1.03609748e-02,  3.52486223e-02,  4.12514210e-02,\n",
       "       -1.16599597e-01, -9.89832333e-04, -1.81652345e-02,  1.03892162e-02,\n",
       "       -1.06837384e-01,  5.71321622e-02,  2.74205524e-02,  2.24442016e-02,\n",
       "       -3.94103229e-02, -7.53058270e-02,  2.77780549e-04, -5.84291155e-03,\n",
       "       -4.62160185e-02,  6.91733956e-02, -2.57775765e-02, -7.75025052e-04,\n",
       "       -1.09855980e-01, -3.40701193e-02, -2.21757330e-02,  6.01524636e-02,\n",
       "        2.97927614e-02,  1.88818648e-02, -1.14854183e-02, -3.06953210e-02,\n",
       "        3.73253562e-02, -1.00383364e-01, -2.29470991e-02,  2.97256820e-02,\n",
       "        6.34370297e-02, -3.75893824e-02, -1.63064022e-02,  9.22288094e-03,\n",
       "        2.03301068e-02,  2.48754155e-02,  6.49325177e-02,  8.94090757e-02,\n",
       "       -7.45163113e-02,  2.56028250e-02,  8.00543651e-02,  3.46007943e-02,\n",
       "        5.68072237e-02, -4.73374575e-02,  3.88280861e-03, -3.83383818e-02,\n",
       "       -3.86811756e-02,  5.86495437e-02,  1.64448842e-02,  5.61002903e-02,\n",
       "       -5.00273481e-02, -1.77868381e-02,  3.33503038e-02,  1.46801304e-02,\n",
       "       -2.35074237e-02,  2.48657214e-03, -4.17606011e-02, -3.73534337e-02,\n",
       "        1.19025132e-03,  5.30204736e-02,  5.46904504e-02, -1.49327507e-02,\n",
       "        3.47818770e-02, -2.17634011e-02, -7.30700884e-03,  4.18202803e-02,\n",
       "        4.90929484e-02,  6.28639385e-02, -2.61670463e-02, -1.95546299e-08,\n",
       "       -6.00006171e-02, -1.10992352e-02,  2.77717095e-02,  4.90521081e-02,\n",
       "       -6.41992968e-03,  3.58600728e-02, -6.09539486e-02, -5.25477901e-02,\n",
       "        1.83898341e-02, -5.39175421e-02,  6.04993142e-02,  9.29183513e-02,\n",
       "       -7.42766634e-02,  3.62767391e-02,  3.96253541e-02,  5.93819283e-02,\n",
       "       -2.19337852e-03, -4.91779074e-02,  2.19180025e-02, -7.77628794e-02,\n",
       "        1.17139367e-03, -1.81541163e-02,  4.60519381e-02, -8.68285075e-03,\n",
       "        5.50608933e-02,  2.00502723e-02, -3.03027481e-02,  4.08788733e-02,\n",
       "       -5.92704080e-02,  6.04977533e-02, -1.11183738e-02,  1.20973676e-01,\n",
       "       -5.52564859e-02, -5.05274907e-02, -4.39278372e-02,  3.98165062e-02,\n",
       "       -2.21383502e-03,  2.52469312e-02, -1.66872237e-02, -3.81388701e-02,\n",
       "        1.34115675e-02,  2.63088825e-03,  2.66441386e-02, -1.93944275e-02,\n",
       "        8.51148814e-02,  7.25544468e-02,  8.84525105e-02, -7.58588985e-02,\n",
       "       -3.76986414e-02, -1.89742804e-01, -3.95648293e-02,  5.56909479e-02,\n",
       "        7.00407401e-02,  6.96631595e-02,  4.76473058e-03,  6.27146214e-02,\n",
       "       -8.51261541e-02, -2.78711580e-02, -3.76351587e-02,  4.12048139e-02,\n",
       "        3.16806734e-02,  1.87337473e-02, -8.50057602e-03, -1.90719254e-02],\n",
       "      dtype=float32)"
      ]
     },
     "execution_count": 14,
     "metadata": {},
     "output_type": "execute_result"
    }
   ],
   "source": [
    "model.encode([\"Hello There Obi Wan Kenobi\"])[0]"
   ]
  },
  {
   "cell_type": "code",
   "execution_count": 15,
   "id": "a9e7ba84-5bd8-473f-a4c4-16c6e04c133f",
   "metadata": {},
   "outputs": [],
   "source": [
    "def cosine_similarity(a,b):\n",
    "    return np.dot(a,b) / (np.linalg.norm(a) * np.linalg.norm(b))"
   ]
  },
  {
   "cell_type": "code",
   "execution_count": 16,
   "id": "d2c1c398-45ca-43cb-afb6-3ce100e8e130",
   "metadata": {},
   "outputs": [],
   "source": [
    "def how_similar(text1, text2):\n",
    "    vector1, vector2 = model.encode([text1, text2])\n",
    "    similarity = cosine_similarity(vector1, vector2)\n",
    "    print(f\"Similarity between {text1} and {text2} is {similarity*100:.1f}%\")"
   ]
  },
  {
   "cell_type": "code",
   "execution_count": 17,
   "id": "f75d52f3-aaa6-42ec-8903-a386645bdf95",
   "metadata": {},
   "outputs": [
    {
     "name": "stdout",
     "output_type": "stream",
     "text": [
      "Similarity between HI there and general kenobi is 39.4%\n"
     ]
    }
   ],
   "source": [
    "how_similar(\"HI there\", \"general kenobi\")"
   ]
  },
  {
   "cell_type": "code",
   "execution_count": 18,
   "id": "5902c7e1-aacc-4ab5-aafa-594e2fc6c2d4",
   "metadata": {},
   "outputs": [
    {
     "name": "stdout",
     "output_type": "stream",
     "text": [
      "Similarity between do this work and Ok I will perform the task is 29.2%\n"
     ]
    }
   ],
   "source": [
    "how_similar(\"do this work\", \"Ok I will perform the task\")"
   ]
  },
  {
   "cell_type": "code",
   "execution_count": 19,
   "id": "5e2b663e-33a0-4203-81fe-090b18494297",
   "metadata": {},
   "outputs": [
    {
     "name": "stdout",
     "output_type": "stream",
     "text": [
      "Similarity between Java and C++ is 50.7%\n"
     ]
    }
   ],
   "source": [
    "how_similar(\"Java\", \"C++\")"
   ]
  },
  {
   "cell_type": "code",
   "execution_count": 20,
   "id": "01e3ca52-49cb-42a5-9e08-5dc1d29d62c8",
   "metadata": {},
   "outputs": [
    {
     "name": "stdout",
     "output_type": "stream",
     "text": [
      "Similarity between Rust and Erlang is 29.7%\n"
     ]
    }
   ],
   "source": [
    "how_similar(\"Rust\",\"Erlang\")"
   ]
  },
  {
   "cell_type": "code",
   "execution_count": 21,
   "id": "0d502333-0f18-41a7-b959-e0c36b397887",
   "metadata": {},
   "outputs": [],
   "source": [
    "def description(item):\n",
    "    text = item.prompt.replace(\"How much does this cost to the nearest dollar?\\n\\n\", \"\")\n",
    "    return text.split(\"\\n\\nPrice is $\")[0]"
   ]
  },
  {
   "cell_type": "code",
   "execution_count": 22,
   "id": "89c7929c-73ed-4c23-9806-7eb8f2794f87",
   "metadata": {},
   "outputs": [
    {
     "data": {
      "text/plain": [
       "'Delphi FG0166 Fuel Pump Module\\nDelphi brings 80 years of OE Heritage into each Delphi pump, ensuring quality and fitment for each Delphi part. Part is validated, tested and matched to the right vehicle application Delphi brings 80 years of OE Heritage into each Delphi assembly, ensuring quality and fitment for each Delphi part Always be sure to check and clean fuel tank to avoid unnecessary returns Rigorous OE-testing ensures the pump can withstand extreme temperatures Brand Delphi, Fit Type Vehicle Specific Fit, Dimensions LxWxH 19.7 x 7.7 x 5.1 inches, Weight 2.2 Pounds, Auto Part Position Unknown, Operation Mode Mechanical, Manufacturer Delphi, Model FUEL PUMP, Dimensions 19.7'"
      ]
     },
     "execution_count": 22,
     "metadata": {},
     "output_type": "execute_result"
    }
   ],
   "source": [
    "description(train[0])"
   ]
  },
  {
   "cell_type": "code",
   "execution_count": 23,
   "id": "9b06b759-3130-4de9-889a-a2edb3d43e91",
   "metadata": {},
   "outputs": [
    {
     "data": {
      "application/vnd.jupyter.widget-view+json": {
       "model_id": "e467f6b0cf79445a9563ae09a5489905",
       "version_major": 2,
       "version_minor": 0
      },
      "text/plain": [
       "  0%|          | 0/20 [00:00<?, ?it/s]"
      ]
     },
     "metadata": {},
     "output_type": "display_data"
    }
   ],
   "source": [
    "NUMBER_OF_DOCUMENTS = 20000\n",
    "for i in tqdm(range(0, NUMBER_OF_DOCUMENTS,1000)):\n",
    "    documents = [description(item) for item in train[i:i+1000]]\n",
    "    vectors = model.encode(documents).astype(float).tolist()\n",
    "    metadatas = [{\"category\":item.category,\"price\": item.price} for item in train[i:i+1000]]\n",
    "    ids = [f\"doc__{j}\" for j in range(i,i+len(documents))]\n",
    "    collection.add(\n",
    "        ids=ids,\n",
    "        documents=documents,\n",
    "        metadatas=metadatas,\n",
    "        embeddings=vectors\n",
    "    )"
   ]
  },
  {
   "cell_type": "code",
   "execution_count": null,
   "id": "c3273335-2038-44a7-9420-f4f89809673f",
   "metadata": {},
   "outputs": [],
   "source": []
  }
 ],
 "metadata": {
  "kernelspec": {
   "display_name": "Python 3 (ipykernel)",
   "language": "python",
   "name": "python3"
  },
  "language_info": {
   "codemirror_mode": {
    "name": "ipython",
    "version": 3
   },
   "file_extension": ".py",
   "mimetype": "text/x-python",
   "name": "python",
   "nbconvert_exporter": "python",
   "pygments_lexer": "ipython3",
   "version": "3.11.13"
  }
 },
 "nbformat": 4,
 "nbformat_minor": 5
}
