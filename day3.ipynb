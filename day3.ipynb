{
 "cells": [
  {
   "cell_type": "code",
   "execution_count": 1,
   "id": "9f4cd615-ad4a-451f-93d3-12be91512098",
   "metadata": {},
   "outputs": [],
   "source": [
    "import os\n",
    "import json\n",
    "from dotenv import load_dotenv\n",
    "from openai import OpenAI\n",
    "from agents.deals import ScrapedDeal, DealSelection"
   ]
  },
  {
   "cell_type": "code",
   "execution_count": 16,
   "id": "6f5b5ab7-3322-4333-ad4c-cf1588dac791",
   "metadata": {},
   "outputs": [],
   "source": [
    "load_dotenv(override=True)\n",
    "openai = OpenAI()"
   ]
  },
  {
   "cell_type": "code",
   "execution_count": 4,
   "id": "f2212ba2-f876-44c6-83a3-2a1d409619b0",
   "metadata": {},
   "outputs": [
    {
     "name": "stderr",
     "output_type": "stream",
     "text": [
      "100%|████████████████████████████████████████████████████████████████████████████████████| 5/5 [03:33<00:00, 42.67s/it]\n"
     ]
    }
   ],
   "source": [
    "deals = ScrapedDeal.fetch(show_progress=True)"
   ]
  },
  {
   "cell_type": "code",
   "execution_count": 5,
   "id": "77f48e28-5cc5-4b66-b78d-1f00a6c19298",
   "metadata": {},
   "outputs": [
    {
     "data": {
      "text/plain": [
       "50"
      ]
     },
     "execution_count": 5,
     "metadata": {},
     "output_type": "execute_result"
    }
   ],
   "source": [
    "len(deals)"
   ]
  },
  {
   "cell_type": "code",
   "execution_count": 6,
   "id": "bdd30ba4-c374-4c80-ba42-2aaf2614f01f",
   "metadata": {},
   "outputs": [
    {
     "data": {
      "text/plain": [
       "<Oukitel BP2000 PRO 3,600W 2,048Wh Portable Power Station for $999 + free shipping>"
      ]
     },
     "execution_count": 6,
     "metadata": {},
     "output_type": "execute_result"
    }
   ],
   "source": [
    "deals[0]"
   ]
  },
  {
   "cell_type": "code",
   "execution_count": 8,
   "id": "69e717b0-8ce5-4acd-a511-1cc7d20bb1a2",
   "metadata": {},
   "outputs": [
    {
     "name": "stdout",
     "output_type": "stream",
     "text": [
      "Title: Walmart Deals Week Automotive Sale: Up to 80% off + free shipping w/ $35\n",
      "Details: Save on tire inflators, repair kits, mini dirt bikes, cleaning kits and much more. We've picked out this FRP GMB100 Gas Powered 99cc Mini Dirt Bike for $450 ($70 off.) Shipping adds $6.99, but orders of $35 or more get free shipping. Shop Now at Walmart\n",
      "Features: \n",
      "URL: https://www.dealnews.com/Walmart-Deals-Week-Automotive-Sale-Up-to-80-off-free-shipping-w-35/21750828.html?iref=rss-c238\n"
     ]
    }
   ],
   "source": [
    "print(deals[23].describe())"
   ]
  },
  {
   "cell_type": "code",
   "execution_count": 9,
   "id": "eb55092c-374d-4f4a-a4cd-b07630a51fed",
   "metadata": {},
   "outputs": [],
   "source": [
    "system_prompt = \"\"\"You identify and summarize the 5 most detailed deals from a list, by selecting deals that have the most detailed, high quality description and the most clear price.\n",
    "Respond strictly in JSON with no explanation, using this format. You should provide the price as a number derived from the description. If the price of a deal isn't clear, do not include that deal in your response.\n",
    "Most important is that you respond with the 5 deals that have the most detailed product description with price. It's not important to mention the terms of the deal; most important is a thorough description of the product.\n",
    "Be careful with products that are described as \"$XXX off\" or \"reduced by $XXX\" - this isn't the actual price of the product. Only respond with products when you are highly confident about the price. \n",
    "\n",
    "{\"deals\": [\n",
    "    {\n",
    "        \"product_description\": \"Your clearly expressed summary of the product in 4-5 sentences. Details of the item are much more important than why it's a good deal. Avoid mentioning discounts and coupons; focus on the item itself. There should be a paragpraph of text for each item you choose.\",\n",
    "        \"price\": 99.99,\n",
    "        \"url\": \"the url as provided\"\n",
    "    },\n",
    "    ...\n",
    "]}\"\"\""
   ]
  },
  {
   "cell_type": "code",
   "execution_count": 10,
   "id": "020875dd-88f2-4cc3-9547-c05d7661d0cf",
   "metadata": {},
   "outputs": [],
   "source": [
    "user_prompt = \"\"\"Respond with the most promising 5 deals from this list, selecting those which have the most detailed, high quality product description and a clear price.\n",
    "Respond strictly in JSON, and only JSON. You should rephrase the description to be a summary of the product itself, not the terms of the deal.\n",
    "Remember to respond with a paragraph of text in the product_description field for each of the 5 items that you select.\n",
    "Be careful with products that are described as \"$XXX off\" or \"reduced by $XXX\" - this isn't the actual price of the product. Only respond with products when you are highly confident about the price. \n",
    "\n",
    "Deals:\n",
    "\n",
    "\"\"\"\n",
    "user_prompt += '\\n\\n'.join([deal.describe() for deal in deals])"
   ]
  },
  {
   "cell_type": "code",
   "execution_count": 11,
   "id": "d4b8c5f3-c12c-4dac-8ac0-acde0e851053",
   "metadata": {
    "scrolled": true
   },
   "outputs": [
    {
     "name": "stdout",
     "output_type": "stream",
     "text": [
      "Respond with the most promising 5 deals from this list, selecting those which have the most detailed, high quality product description and a clear price.\n",
      "Respond strictly in JSON, and only JSON. You should rephrase the description to be a summary of the product itself, not the terms of the deal.\n",
      "Remember to respond with a paragraph of text in the product_description field for each of the 5 items that you select.\n",
      "Be careful with products that are described as \"$XXX off\" or \"reduced by $XXX\" - this isn't the actual price of the product. Only respond with products when you are highly confident about the price. \n",
      "\n",
      "Deals:\n",
      "\n",
      "Title: Oukitel BP2000 PRO 3,600W 2,048Wh Portable Power Station for $999 + free shipping\n",
      "Details: Apply coupon code \"Prime500\" for a savings of $900. Buy Now at us.oukitel.com\n",
      "Features: 3,300W AC output Max AC2200W fast charging Up to 10 year lifespan LiFePO4 battery 6 ways to charge (AC, Solar, AC+Solar, Car, Generator, and AC Adapter B;uetooth, WiFi, Smart app control Expandable with up to 7 expansion batteries\n",
      "URL: https://www.dealnews.com/Oukitel-BP2000-PRO-3-600-W-2-048-Wh-Portable-Power-Station-for-999-free-shipping/21753698.html?iref=rss-c142\n",
      "\n",
      "Title: Apple Back to School Sale: Up to $179 in Accessories or AirPods w/ Purchase + free shipping\n",
      "Details: Get an accessory worth up to $179 with your purchase of an iPad, MacBook, or iMac during Apple's Back to School event. That stacks on top of Education Store prices, which typically offer eligible buyers a 10% (or more) discount on the newest Apple tech. The free accessory (or discount of $179) varies by item, but can score free Apple Pencils, AirPods, and more.These offers are exclusively for qualifying teachers, students, faculty, and staff. Shop Now at Apple\n",
      "Features: \n",
      "URL: https://www.dealnews.com/Apple-Back-to-School-Sale-Up-to-179-in-Accessories-or-Air-Pods-w-Purchase-free-shipping/21753740.html?iref=rss-c142\n",
      "\n",
      "Title: LG OLED TV Deals at Best Buy: Up to $3,200 off + free shipping\n",
      "Details: Shop 25 discounted LG OLED TVs at Best Buy. We've pictured the LG B4 Series OLED48B4PUA 48\" 4K HDR OLED UHD Smart TV for $600 ($100 off). Shop Now at Best Buy\n",
      "Features: \n",
      "URL: https://www.dealnews.com/LG-OLED-TV-Deals-at-Best-Buy-Up-to-3-200-off-free-shipping/21753697.html?iref=rss-c142\n",
      "\n",
      "Title: Best Buy Clearance Deals: Up to 85% off + free shipping\n",
      "Details: Shop the clearance section at Best Buy to get deep discounts on over 1,400 items. Deals include savings on video games, cell phone accessories, laptops, tablets, major appliances, light bulbs, and more. Everything ships for free for My Best Buy members, too (it's free to join). Shop Now at Best Buy\n",
      "Features: \n",
      "URL: https://www.dealnews.com/Best-Buy-Clearance-Deals-Up-to-85-off-free-shipping/21753690.html?iref=rss-c142\n",
      "\n",
      "Title: Vtoman FlashSpeed 1500 1,548Wh Portable Power Station for $408 + free shipping\n",
      "Details: Apply coupon code \"AEUS80\" to get the best price we've seen, and the lowest price we could find today by $162. Buy Now at AliExpress\n",
      "Features: three 110V/1,500W AC outlets four USB-A ports two USB-C ports two DC5521 output ports car cigarette lighter port Model: PB-58\n",
      "URL: https://www.dealnews.com/products/Vtoman/Vtoman-Flash-Speed-1500-1-548-Wh-Portable-Power-Station/436209.html?iref=rss-c142\n",
      "\n",
      "Title: Shockproof Magnetic Case for iPhone for $7 + free shipping\n",
      "Details: It's available in several colors and for many iPhone models. Buy Now at TikTok Shop\n",
      "Features: military grade drop protection\n",
      "URL: https://www.dealnews.com/Shockproof-Magnetic-Case-for-iPhone-for-7-free-shipping/21753659.html?iref=rss-c142\n",
      "\n",
      "Title: Brookstone 5,000mAh Magnetic Solar Power Bank for $15 + free shipping\n",
      "Details: As seen on Inside Deals from Inside Edition and as one of MorningSave's best deals today, get over 60% off this solar power bank. Plus, use coupon code \"DEALNEWS\" to get free shipping, an additional $8.99 savings. Buy Now at MorningSave\n",
      "Features: built-in solar panel flashlight\n",
      "URL: https://www.dealnews.com/Brookstone-5-000-m-Ah-Magnetic-Solar-Power-Bank-for-15-free-shipping/21753650.html?iref=rss-c142\n",
      "\n",
      "Title: PWRCard 2,500mAh Slim Portable Power Bank 4-Pack for $12 + free shipping\n",
      "Details: As one of the best deals today at SideDeal, get 96% off this 4-pack. This deal makes each power bank $3. Plus, use coupon code \"DEALNEWS\" to get free shipping, an additional $8.99 savings. Buy Now at SideDeal\n",
      "Features: includes four USB-C, four micro-USB, and four Lightning cables\n",
      "URL: https://www.dealnews.com/PWRCard-2-500-m-Ah-Slim-Portable-Power-Bank-4-Pack-for-12-free-shipping/21753642.html?iref=rss-c142\n",
      "\n",
      "Title: Samsung Neo QLED QN90D TVs: Up to $1,800 off + free shipping\n",
      "Details: Save on four sizes of this TV, all marked at least $400 off. The 55\" starts things at $1,599 ($400 off), while the 85\" is the largest option at $2,999.99 ($1,800 off). Shop Now at Samsung\n",
      "Features: \n",
      "URL: https://www.dealnews.com/Samsung-Neo-QLED-QN90-D-TVs-Up-to-1-800-off-free-shipping/21753562.html?iref=rss-c142\n",
      "\n",
      "Title: Eco-Worthy 5.12kWh 48V 100AH Server Rack LiFePO4 Lithium Battery for $800 + free shipping\n",
      "Details: Eco-Worthy US via eBay offers the Eco-Worthy 5.12kWh 48V 100AH Server Rack LiFePO4 Lithium Battery for $799.99, reduced from $999.99, with free shipping. Buy Now at eBay\n",
      "Features: wireless connectivity and smart monitoring fits standard 3U cabinets 100A BMS\n",
      "URL: https://www.dealnews.com/Eco-Worthy-5-12-k-Wh-48-V-100-AH-Server-Rack-Li-Fe-PO4-Lithium-Battery-for-800-free-shipping/21753341.html?iref=rss-c142\n",
      "\n",
      "Title: Apple MacBook Deals at Best Buy: Up to $900 off + free shipping\n",
      "Details: Best Buy has nearly 60 discounted Apple MacBooks. Prices are as marked. We've pictured the Apple MacBook Air M3 15.3\" Laptop for $1,099 ($200 off). Shop Now at Best Buy\n",
      "Features: \n",
      "URL: https://www.dealnews.com/Apple-Mac-Book-Deals-at-Best-Buy-Up-to-900-off-free-shipping/21753703.html?iref=rss-c39\n",
      "\n",
      "Title: Dell Inspiron 15 Ryzen 7 15.6\" Laptop w/ 16GB RAM for $450 + free shipping\n",
      "Details: It's $80 under our April mention of the same build, $200 off, and the lowest price we could find. Buy Now at Dell Technologies\n",
      "Features: AMD Ryzen 7 7730U 2.0GHz 8-core CPU 16GB RAM and 1TB HDD 15.6\" 1920x1080 (1080p) display Windows 11 Home Model: usedc15255hbtshqzm Model: useichbts3535gryw\n",
      "URL: https://www.dealnews.com/products/Dell/Dell-Inspiron-15-Ryzen-7-15-6-Laptop-w-16-GB-RAM/484546.html?iref=rss-c39\n",
      "\n",
      "Title: Dell 15 Intel Core 3 15.6\" Laptop for $280 + free shipping\n",
      "Details: It's $120 off and the lowest price we could find. Buy Now at Dell Technologies\n",
      "Features: Intel Core 3 100U 1.2GHz 6-core CPU 15.6\" LCD 8GB RAM & 512GB storage Windows 11 Home Model: usedc15250hbtohphr\n",
      "URL: https://www.dealnews.com/products/Dell/Dell-15-Intel-Core-3-15-6-Laptop/491821.html?iref=rss-c39\n",
      "\n",
      "Title: HP Chromebook 14 11MK G9EE MediaTek 11.6\" Laptop for $70 + free shipping\n",
      "Details: It's just over 70% off the list price and the best deal we could find. A 30-day warranty applies, but it's not clear who backs it. Buy Now at StackSocial\n",
      "Features: MediaTek MT8183 2GHz CPU 11.6\" 1366x768 (720p) display 4GB RAM & 32GB flash storage Chrome OS Model: 436B7UT#ABA\n",
      "URL: https://www.dealnews.com/products/HP/HP-Chromebook-14-11-MK-G9-EE-Media-Tek-11-6-Laptop/490756.html?iref=rss-c39\n",
      "\n",
      "Title: The Complete Circuit Design & Simulation Super Bundle for $60\n",
      "Details: Save $510 on this educational bundle, with 33 hours of instruction across 19 courses, including lessons on Arduino boards, PCB fabrication, PIC microcontrollers, and more. Buy Now at StackSocial\n",
      "Features: \n",
      "URL: https://www.dealnews.com/The-Complete-Circuit-Design-Simulation-Super-Bundle-for-60/21753668.html?iref=rss-c39\n",
      "\n",
      "Title: Refurb Dell Latitude 5320 Laptops: 50% off + free shipping\n",
      "Details: This hugely-popular discount is back — use coupon code \"COLLEGE50\" to get half off over two dozen builds, with deals starting from $194.50 after it's applied. They ship for free too. All refurbished systems get a 100-day Dell warranty.Throughout July and beyond, we'll keep you updated with latest and greatest 2025 Dell Refurbished coupons and promo codes, to guarantee you the best prices on their laptops, desktops, monitors, and more. Shop Now at Dell Refurbished Store\n",
      "Features: \n",
      "URL: https://www.dealnews.com/Refurb-Dell-Latitude-5320-Laptops-50-off-free-shipping/21753607.html?iref=rss-c39\n",
      "\n",
      "Title: Dell Inspiron 14 5440 13th-Gen. i5 14\" Laptop for $349 + free shipping\n",
      "Details: It's over $400 on Amazon right now. Buy Now at Walmart\n",
      "Features: 13th Generation Intel Core i5-1334U 3.4GHz Raptor Lake 10-core CPU 14\" 1920x1200 display 8GB RAM and 512GB SSD Windows 11 Home\n",
      "URL: https://www.dealnews.com/products/Dell/Dell-Inspiron-14-5440-13-th-Gen-i5-14-Laptop/491383.html?iref=rss-c39\n",
      "\n",
      "Title: Open-Box Samsung Gaming Monitors: Up to an extra 54% off + free shipping\n",
      "Details: Opt for an open-box model when you're shopping these gaming monitors (there's an option on the product pages) and you can save big — prices start from $299.99. The standard 1-year Samsung warranty applies. Note that availability will vary by ZIP code. Shop Now at Samsung\n",
      "Features: \n",
      "URL: https://www.dealnews.com/Open-Box-Samsung-Gaming-Monitors-Up-to-an-extra-54-off-free-shipping/21753543.html?iref=rss-c39\n",
      "\n",
      "Title: Samsung Odyssey G8 G81SF 27\" 4K HDR 240Hz OLED Gaming Monitor for $950 w/ free 24\" Odyssey G3 Monitor + free shipping\n",
      "Details: You'll get the Samsung Odyssey G30D 24\" 1080p gaming monitor for free here, saving you $110 compared to buying the monitors separately elsewhere. Buy Now at Samsung\n",
      "Features: 3840x2160 (4K) native resolution HDR10+ Gaming & VESA DisplayHDR True Black 400 240Hz refresh rate w/ AMD FreeSync 2 USB ports 1 DisplayPort & 2 HDMI inputs Model: LS27FG810SNXZA\n",
      "URL: https://www.dealnews.com/products/Samsung/Samsung-Odyssey-G8-G81-SF-27-4-K-HDR-240-Hz-OLED-Gaming-Monitor/488748.html?iref=rss-c39\n",
      "\n",
      "Title: Squarespace: get 10% off your first subscription\n",
      "Details: Squarespace's Design Intelligence helps you build your website faster and more intuitively by transforming your basic ideas into a fully designed site—no design experience required. Use coupon code \"DEALNEWS10\" to get 10% off your first subscription. Design Intelligence is powered by Squarespace Blueprint AI, which takes your content and goals to automatically generate a professional, personalized website that reflects your brand and style. It's built to support your creativity—not replace it—so you can focus on what matters most. Start building smarter with Squarespace Design Intelligence. Shop Now at Squarespace\n",
      "Features: \n",
      "URL: https://www.dealnews.com/Squarespace-get-10-off-your-first-subscription/21753503.html?iref=rss-c39\n",
      "\n",
      "Title: Automotive Flash Deals at Walmart: Up to 80% off + free shipping w/ $35\n",
      "Details: Walmart has shaken up the deals in its automotive sale for the new week; save on dash cams, tire inflators, portable refrigerators, jump starters, and much more. Shipping is free for most orders over $35, otherwise it adds $7. Shop Now at Walmart\n",
      "Features: \n",
      "URL: https://www.dealnews.com/Automotive-Flash-Deals-at-Walmart-Up-to-80-off-free-shipping-w-35/21748530.html?iref=rss-c238\n",
      "\n",
      "Title: Motor Oil Rollbacks at Walmart: Up to 51% off + free shipping w/ $35\n",
      "Details: There are dozen of items on offer here. Shop top brands like Mobil 1, Castrol, Pennzoil for various vehicles. Pictured is the Mobil 1 ESP Full Synthetic 5W-20 1-Quart Motor Oil for $8.78 (better than half.) Opt for pickup to avoid the $6.99 shipping charge (or get free shipping with orders of $35 or more). Shop Now at Walmart\n",
      "Features: \n",
      "URL: https://www.dealnews.com/Motor-Oil-Rollbacks-at-Walmart-Up-to-51-off-free-shipping-w-35/21749434.html?iref=rss-c238\n",
      "\n",
      "Title: Tire Rollbacks at Walmart: Deals from $36 + free shipping w/ $35\n",
      "Details: Save on over 1,000 options here, with dozens below $100. We've pictured the Otani KC2000 UHP P245/40R18 97W Passenger Tire for $85 ($13 off). Installation starts at $18 per tire. Buy Now at Walmart\n",
      "Features: \n",
      "URL: https://www.dealnews.com/Tire-Rollbacks-at-Walmart-Deals-from-36-free-shipping-w-35/21748553.html?iref=rss-c238\n",
      "\n",
      "Title: Walmart Deals Week Automotive Sale: Up to 80% off + free shipping w/ $35\n",
      "Details: Save on tire inflators, repair kits, mini dirt bikes, cleaning kits and much more. We've picked out this FRP GMB100 Gas Powered 99cc Mini Dirt Bike for $450 ($70 off.) Shipping adds $6.99, but orders of $35 or more get free shipping. Shop Now at Walmart\n",
      "Features: \n",
      "URL: https://www.dealnews.com/Walmart-Deals-Week-Automotive-Sale-Up-to-80-off-free-shipping-w-35/21750828.html?iref=rss-c238\n",
      "\n",
      "Title: Armor All XL Car Care 13-Piece Cleaning and Wash Kit for $18 + free shipping w/ $35\n",
      "Details: That's $2 less than half price on this comprehensive car cleaning kit. Orders of $35 or more get free shipping; otherwise it adds $6.99. Buy Now at Walmart\n",
      "Features: includes wax, sprays, mitts, wipes, and more Model: E303895500\n",
      "URL: https://www.dealnews.com/products/Armor-All/Armor-All-XL-Car-Care-13-Piece-Cleaning-and-Wash-Kit/491462.html?iref=rss-c238\n",
      "\n",
      "Title: Vevor 69-Piece Auto Repair Kit for $52 + free shipping\n",
      "Details: That's a nice price on a kit of so many components. Buy Now at Lowe's\n",
      "Features: \n",
      "URL: https://www.dealnews.com/Vevor-69-Piece-Auto-Repair-Kit-for-52-free-shipping/21750687.html?iref=rss-c238\n",
      "\n",
      "Title: Lowe's Automotive Deals: Up to 50% off + free shipping w/ $35\n",
      "Details: There are almost 100 auto deals included here, with prices starting below $20. Choose in-store pickup to dodge the $5.99 shipping fee, or get free shipping with orders of $35 or more by signing up to MyLowe's Rewards. (It's free to join.)  Shop Now at Lowe's\n",
      "Features: \n",
      "URL: https://www.dealnews.com/Lowes-Automotive-Deals-Up-to-50-off-free-shipping-w-35/21750683.html?iref=rss-c238\n",
      "\n",
      "Title: Automotive Part and Accessory Deals at eBay: Up to 70% off + Extra 10% off\n",
      "Details: Apply coupon code \"AUTODEALTEN\" to get an extra 10% off auto parts, tires, diagnostic tools, and more at eBay. The promo code has a max discount of $75 and can be used twice per account. Shop Now at eBay\n",
      "Features: \n",
      "URL: https://www.dealnews.com/Automotive-Part-and-Accessory-Deals-at-eBay-Up-to-70-off-Extra-10-off/21749656.html?iref=rss-c238\n",
      "\n",
      "Title: Speedwow 7090 Iridium Spark Plugs 4-Pack for $8 + free shipping w/ $35\n",
      "Details: You'd pay $13 for a similar option elsewhere. Shipping adds $6.99 or orders of $35 or more ships for free. Buy Now at Walmart\n",
      "Features: multivehicle compatibility Model: 7090\n",
      "URL: https://www.dealnews.com/products/Speedwow-7090-Iridium-Spark-Plugs-4-Pack/491226.html?iref=rss-c238\n",
      "\n",
      "Title: Outsunny 10 x 16-Foot Carport Storage Tent for $181 + free shipping\n",
      "Details: AliExpress offers this Outsunny 10 x 16-Foot Carport Storage Tent for $181.38 (reduced from $206.38) via coupon code \"IFP0SWY\" with free shipping. Buy Now at AliExpress\n",
      "Features: UV resistant canopy galvanized steel frame roll-up zippered door\n",
      "URL: https://www.dealnews.com/Outsunny-10-x-16-Foot-Carport-Storage-Tent-for-181-free-shipping/21745233.html?iref=rss-c238\n",
      "\n",
      "Title: Levoit Core 200S-P Smart Air Purifier for $70 + free shipping\n",
      "Details: That's the best price we could find by $10. Buy Now at Vesync\n",
      "Features: 3-in-1 filters to remove 99.97% of airborne particles compatible with Alexa or Google Assistant noise levels from 24dB Model: 200S-P\n",
      "URL: https://www.dealnews.com/products/Levoit/Levoit-Core-200-S-P-Smart-Air-Purifier/491830.html?iref=rss-f1912\n",
      "\n",
      "Title: Certified Refurb iRobot Roomba j7+ Self-Emptying Robot Vacuum for $170 + free shipping\n",
      "Details: It's another drop since last month's mention and the best price we've ever seen for this Roomba. You'd pay $30 more for a refurb at Amazon. A 2-year Allstate warranty applies. Buy Now at eBay\n",
      "Features: smart mapping self cleaning cartridge filter Model: j755920\n",
      "URL: https://www.dealnews.com/products/iRobot/iRobot-Roomba-j7-Self-Emptying-Robot-Vacuum/455442.html?iref=rss-f1912\n",
      "\n",
      "Title: JMGO N1S 4K Smart Portable Projector for $854 + free shipping\n",
      "Details: Apply coupon code \"N1S4KUSDN\" for a total savings of $445. Buy Now at JMGO\n",
      "Features: 110% BT.2020 and 200\" screen capability 4K UHD resolution with HDR10 1100 ISO lumens brightness integrated Google TV OS triple laser Model: J70-6A6\n",
      "URL: https://www.dealnews.com/products/JMGO-N1-S-4-K-Smart-Portable-Projector/491727.html?iref=rss-f1912\n",
      "\n",
      "Title: BlissLights BlissEmber Color Changing LED Plug-in Night Light 2-Pack for $15 + free shipping\n",
      "Details: As one the best deals today at SideDeal, get this 2-pack for half off. You'd pay the same amount for just one light elsewhere. Plus, use coupon code \"DEALNEWS\" to get free shipping, an additional $8.99 savings. Buy Now at SideDeal\n",
      "Features: compatible with Google Home and Alexa motion sensor\n",
      "URL: https://www.dealnews.com/Bliss-Lights-Bliss-Ember-Color-Changing-LED-Plug-in-Night-Light-2-Pack-for-15-free-shipping/21752976.html?iref=rss-f1912\n",
      "\n",
      "Title: BlissLights Sky Lite Evolve LED Galaxy Cloud Projector 2-Pack from 2 for $20\n",
      "Details: As Meh's Daily Deal, get up to 75% off. You'd pay $80 for two at Amazon. Plus, use coupon code \"DEALNEWS\" to get free shipping, an additional $6 savings. Buy Now at Meh\n",
      "Features: compatible with Google Home and Alexa covers up to 900-sq. ft.\n",
      "URL: https://www.dealnews.com/Bliss-Lights-Sky-Lite-Evolve-LED-Galaxy-Cloud-Projector-2-Pack-from-2-for-20/21752971.html?iref=rss-f1912\n",
      "\n",
      "Title: Open Box Shark Power Detect 2-in-1 Robot Vacuum and Mop for $285 in cart + free shipping\n",
      "Details: That's $715 less than you'd pay in factory sealed condition. The discount applies in cart. Buy Now at eBay\n",
      "Features: mapping auto empty edge cleaning NeverStuck technology 3D sensor and 360° LiDAR Model: 94410435\n",
      "URL: https://www.dealnews.com/products/Shark/Shark-Power-Detect-2-in-1-Robot-Vacuum-and-Mop/491675.html?iref=rss-f1912\n",
      "\n",
      "Title: Jackery E5000 Plus Whole-Home Backup Kit + Free Gift for $9,499 + free shipping\n",
      "Details: Apply coupon code OFFER5 for a savings of $1,500 off this whole-home backup kit. Plus, during their Prime Day sale, you'll also snag a free refurbished Jackery Explorer 300 Plus power station (worth $300) with your purchase. Buy Now at Jackery, Inc\n",
      "Features: Two Jackery Explorer 5000 Plus Portable Power Stations Two Jackery Battery Pack 5000 Plus Units  Jackery Smart Transfer Switch\n",
      "URL: https://www.dealnews.com/Jackery-E5000-Plus-Whole-Home-Backup-Kit-Free-Gift-for-9-499-free-shipping/21751605.html?iref=rss-f1912\n",
      "\n",
      "Title: Refurb Hisense 8,000 BTU Smart Inverter Window Air Conditioner for $280 + free shipping\n",
      "Details: That's $20 less than you'd pay for this item in new condition. A one-year Allstate warranty is provided with purchase. Buy Now at eBay\n",
      "Features: for rooms up to 350-sq. ft. 4-way air direction Smart controls 3 fan speeds Model: HLAW0825TW\n",
      "URL: https://www.dealnews.com/products/Hisense/Hisense-8-000-BTU-Smart-Inverter-Window-Air-Conditioner/489681.html?iref=rss-f1912\n",
      "\n",
      "Title: Certified Refurb iRobot Roomba Combo Robot Vacuum & Mop for $95 + free shipping\n",
      "Details: Apply coupon code \"JULYFINDS\" and you'll get this Roomba for under $100. It's great if you want a robot vacuum without shelling out big bucks. It's a certified refurb, but comes with a 2-year Allstate warranty for added security. Buy Now at eBay\n",
      "Features: \n",
      "URL: https://www.dealnews.com/products/iRobot/iRobot-Roomba-Combo-Robot-Vacuum-Mop/489005.html?iref=rss-f1912\n",
      "\n",
      "Title: Keurig K-Supreme Smart Coffee Maker for $119 + free shipping\n",
      "Details: Walmart offers the Keurig K-Supreme Smart Coffee Maker for $119 (reduced from $179) with free shipping. Buy Now at Walmart\n",
      "Features: WiFi-enabled BrewID technology customizes brew settings for your specific K-Cup pod five strength settings and six temperature settings MultiStream technology brews four cup sizes: 6-oz, 8-oz, 10-oz, and 12-z. use the Keurig app to brew from anywhere and schedule brews\n",
      "URL: https://www.dealnews.com/Keurig-K-Supreme-Smart-Coffee-Maker-for-119-free-shipping/21749829.html?iref=rss-f1912\n",
      "\n",
      "Title: Better Homes & Gardens River Oaks Tile Top Coffee Table for $74 + free shipping\n",
      "Details: Save $38 off the list price. Buy Now at Walmart\n",
      "Features: measures 32.68\" x 32.68\" x 18.11\" Model: 027198\n",
      "URL: https://www.dealnews.com/products/Better-Homes-and-Gardens/Better-Homes-Gardens-River-Oaks-Tile-Top-Coffee-Table/491841.html?iref=rss-c196\n",
      "\n",
      "Title: Mainstays 10-Piece Bed in a Bag Comforter Set for $22 for Twin, $24 for Full + free shipping w/ $35\n",
      "Details: Get ready for going back to school at bargain prices. Buy Now at Walmart\n",
      "Features: \n",
      "URL: https://www.dealnews.com/Mainstays-10-Piece-Bed-in-a-Bag-Comforter-Set-for-22-for-Twin-24-for-Full-free-shipping-w-35/21753845.html?iref=rss-c196\n",
      "\n",
      "Title: Augason Farms Black Bean Burger Mix 38-Serving Can for $13 + free shipping w/ $35\n",
      "Details: That's a $6 low.Note: This offer has sold out at Amazon at this price but is still available at Walmart. Buy Now at Walmart\n",
      "Features: \n",
      "URL: https://www.dealnews.com/Augason-Farms-Black-Bean-Burger-Mix-38-Serving-Can-for-13-free-shipping-w-35/21753836.html?iref=rss-c196\n",
      "\n",
      "Title: Home Essentials Deals at IKEA Under $10 + free shipping w/ $50\n",
      "Details: Shop a selection of affordable home essentials perfect for your home or college dorm. We've pictured the 3-1/2\" Artificial Potted Plant for $6.99. Becoming an IKEA Family member is free and gets perks like special discounts and free shipping on small orders over $50. Buy Now at IKEA\n",
      "Features: \n",
      "URL: https://www.dealnews.com/Home-Essentials-Deals-at-IKEA-Under-10-free-shipping-w-50/21753816.html?iref=rss-c196\n",
      "\n",
      "Title: Levoit Core 200S-P Smart Air Purifier for $70 + free shipping\n",
      "Details: That's the best price we could find by $10. Buy Now at Vesync\n",
      "Features: 3-in-1 filters to remove 99.97% of airborne particles compatible with Alexa or Google Assistant noise levels from 24dB Model: 200S-P\n",
      "URL: https://www.dealnews.com/products/Levoit/Levoit-Core-200-S-P-Smart-Air-Purifier/491830.html?iref=rss-c196\n",
      "\n",
      "Title: PowerSmart 2,500W Inverter Gas Generator w/ CO Alert for $310 + free shipping\n",
      "Details: That's a savings of $90. Buy Now at POWERSMART\n",
      "Features: Produces up to 2,500 starting watts and 1,900 running watts CO sensor automatically shuts off generator if harmful levels detected 56 dBA in ECO mode Weighs 36 lbs. 2 AC outlets, 1 DC outlet, 2 USB ports\n",
      "URL: https://www.dealnews.com/Power-Smart-2-500-W-Inverter-Gas-Generator-w-CO-Alert-for-310-free-shipping/21753667.html?iref=rss-c196\n",
      "\n",
      "Title: Harbor Freight Tools Clearance from 97 cents + shipping from $6.99\n",
      "Details: The majority of items in this sale are under $50. Many are available in-store only including the pictured the Pittsburgh 6-1/2\" Wire Strippers with Pressure Adjustment for $4.97. Otherwise, shipping starts at $6.99. Shop Now at Harbor Freight Tools\n",
      "Features: \n",
      "URL: https://www.dealnews.com/Harbor-Freight-Tools-Clearance-from-97-cents-shipping-from-6-99/21753748.html?iref=rss-c196\n",
      "\n",
      "Title: Harbor Freight Tools Dollar Days: Deals from $1 + shipping from $6.99\n",
      "Details: Harbor Freight Tools has kicked off their Dollar Days deals with savings of up to 59% off. You will save on safety glasses, clamps, pliers, gloves, and more. All these coupons work online or in-store at Harbor Freight. Shipping starts at $6.99. Buy Now at Harbor Freight Tools\n",
      "Features: \n",
      "URL: https://www.dealnews.com/Harbor-Freight-Tools-Dollar-Days-Deals-from-1-shipping-from-6-99/21753747.html?iref=rss-c196\n",
      "\n",
      "Title: 304 Stainless Steel Kitchen Sink with Digital Display for $93 + free shipping\n",
      "Details: That's $67 less than other stores charge for similar sinks via coupon code \"AEUS20\". Buy Now at AliExpress\n",
      "Features: knife holder waterfall faucet 3 function hose sprayer\n",
      "URL: https://www.dealnews.com/304-Stainless-Steel-Kitchen-Sink-with-Digital-Display-for-93-free-shipping/21753738.html?iref=rss-c196\n",
      "\n",
      "Title: Bully Tools Lawn & Garden Essentials Combo Pack for $118 + free shipping\n",
      "Details: Bully Tools offers its Bully Tools Lawn & Garden Essentials Combo Pack for $118.46 (reduced from $131.63) with free shipping. Buy Now at Bully Tools\n",
      "Features: 14-gauge steel round point shovel with fiberglass handle and open back 10-gauge steel 16\" bow rake with fiberglass handle and rubber grip 12-gauge steel 58\" garden hoe with fiberglass long handle\n",
      "URL: https://www.dealnews.com/Bully-Tools-Lawn-Garden-Essentials-Combo-Pack-for-118-free-shipping/21753332.html?iref=rss-c196\n"
     ]
    }
   ],
   "source": [
    "print(user_prompt)"
   ]
  },
  {
   "cell_type": "code",
   "execution_count": 13,
   "id": "72056247-fb98-418b-ba42-80a9ad887d6e",
   "metadata": {},
   "outputs": [
    {
     "name": "stdout",
     "output_type": "stream",
     "text": [
      "Respond with the most promising 5 deals from this list, selecting those which have the most detailed, high quality product description and a clear price.\n",
      "Respond strictly in JSON, and only JSON. You should rephrase the description to be a summary of the product itself, not the terms of the deal.\n",
      "Remember to respond with a paragraph of text in the product_description field for each of the 5 items that you select.\n",
      "Be careful with products that are described as \"$XXX off\" or \"reduced by $XXX\" - this isn't the actual price of the product. Only respond with products when you are highly confident about the price. \n",
      "\n",
      "Deals:\n",
      "\n",
      "Title: Oukitel BP2000 PRO 3,600W 2,048Wh Portable Power Station for $999 + free shipping\n",
      "Details: Apply coupon code \"Prime500\" for a savings of $900. Buy Now at us.oukitel.com\n",
      "Features: 3,300W AC output Max AC2200W fast charging Up to 10 year lifespan LiFePO4 battery 6 ways to charge (AC, Solar, AC+Solar, Car, Generator, and AC Adapter B;uetooth, WiFi, Smart app control Expandable with up to 7 expansion batteries\n",
      "URL: https://www.dealnews.com/Oukitel-BP2000-PRO-3-600-W-2-048-Wh-Portable-Power-Station-for-999-free-shipping/21753698.html?iref=rss-c142\n",
      "\n",
      "Title: Apple Back to School Sale: Up to $179 in Accessories or AirPods w/ Purchase + free shipping\n",
      "Details: Get an accessory worth up to $179 with your purchase of an iPad, MacBook, or iMac during Apple's Back to School event. That stacks on top of Education Store prices, which typically offer eligible buyers a 10% (or more) discount on the newest Apple tech. The free accessory (or discount of $179) varies by item, but can score free Apple Pencils, AirPods, and more.These offers are exclusively for qualifying teachers, students, faculty, and staff. Shop Now at Apple\n",
      "Features: \n",
      "URL: https://www.dealnews.com/Apple-Back-to-School-Sale-Up-to-179-in-Accessories-or-Air-Pods-w-Purchase-free-shipping/21753740.html?iref=rss-c142\n",
      "\n",
      "Title: LG OLED TV Deals at Best Buy: Up to $3,200 off + free shipping\n",
      "Details: Shop 25 \n"
     ]
    }
   ],
   "source": [
    "print(user_prompt[:2000])"
   ]
  },
  {
   "cell_type": "code",
   "execution_count": 14,
   "id": "0fe48276-8961-44ff-a472-a8396723924c",
   "metadata": {},
   "outputs": [],
   "source": [
    "def get_recommendations():\n",
    "    completion = openai.chat.completions.parse(\n",
    "        model=\"gpt-4.1-mini\",\n",
    "        messages = [\n",
    "            {\"role\":\"system\",\"content\":system_prompt},\n",
    "            {\"role\":\"user\",\"content\": user_prompt}\n",
    "        ],\n",
    "        response_format=DealSelection\n",
    "    )\n",
    "    response = completion.choices[0].message.parsed\n",
    "    return response"
   ]
  },
  {
   "cell_type": "code",
   "execution_count": 17,
   "id": "e50fd889-e994-489f-879c-abd338f2b0b0",
   "metadata": {},
   "outputs": [],
   "source": [
    "result = get_recommendations()"
   ]
  },
  {
   "cell_type": "code",
   "execution_count": 21,
   "id": "5419651a-7936-488e-9b13-72151752e125",
   "metadata": {},
   "outputs": [
    {
     "data": {
      "text/plain": [
       "5"
      ]
     },
     "execution_count": 21,
     "metadata": {},
     "output_type": "execute_result"
    }
   ],
   "source": [
    "len(result.deals)"
   ]
  },
  {
   "cell_type": "code",
   "execution_count": 23,
   "id": "3469a78e-0b8f-4958-81f0-42b3d512c9c5",
   "metadata": {},
   "outputs": [
    {
     "name": "stdout",
     "output_type": "stream",
     "text": [
      "[Deal(product_description='The Oukitel BP2000 PRO is a portable power station featuring a large 2,048Wh LiFePO4 battery with an extended lifespan of up to 10 years. It provides a maximum AC output of 3,300W and supports fast charging at 2,200W. The device can be charged through multiple methods including AC, solar, car, generator, and its own AC adapter. It supports smart app control via Bluetooth and WiFi and is expandable with up to seven additional expansion batteries for increased capacity.', price=999.0, url='https://www.dealnews.com/Oukitel-BP2000-PRO-3-600-W-2-048-Wh-Portable-Power-Station-for-999-free-shipping/21753698.html?iref=rss-c142'), Deal(product_description='The Vtoman FlashSpeed 1500 is a portable power station boasting a capacity of 1,548Wh. It offers three 110V AC outlets with 1,500W output capacity, alongside multiple USB ports including four USB-A and two USB-C ports, plus two DC5521 output ports and a car cigarette lighter port. Designed to provide versatile power access for various devices, it is a compact solution for portable energy needs.', price=408.0, url='https://www.dealnews.com/products/Vtoman/Vtoman-Flash-Speed-1500-1-548-Wh-Portable-Power-Station/436209.html?iref=rss-c142'), Deal(product_description='The Eco-Worthy 5.12kWh 48V 100AH Server Rack LiFePO4 Lithium Battery is designed for integration into standard 3U cabinets for server or storage use. It features a 100A battery management system (BMS) for safety and performance, wireless connectivity for smart monitoring, making it suitable for energy storage solutions with high capacity and intelligent management.', price=800.0, url='https://www.dealnews.com/Eco-Worthy-5-12-k-Wh-48-V-100-AH-Server-Rack-Li-Fe-PO4-Lithium-Battery-for-800-free-shipping/21753341.html?iref=rss-c142'), Deal(product_description='The Dell Inspiron 15 Ryzen 7 Laptop is powered by AMD Ryzen 7 7730U 2.0GHz 8-core CPU, equipped with 16GB RAM and a 1TB HDD. It has a 15.6-inch 1920x1080 (1080p) display, runs Windows 11 Home, and delivers solid performance for productivity and multitasking tasks. It comes with model numbers usedc15255hbtshqzm and useichbts3535gryw, and offers a balanced combination of processing power and storage space.', price=450.0, url='https://www.dealnews.com/products/Dell/Dell-Inspiron-15-Ryzen-7-15-6-Laptop-w-16-GB-RAM/484546.html?iref=rss-c39'), Deal(product_description='The Dell Inspiron 14 5440 Laptop features a 13th Generation Intel Core i5-1334U 3.4GHz Raptor Lake 10-core processor, 8GB RAM, and 512GB SSD storage. It includes a 14-inch 1920x1200 resolution display and runs on Windows 11 Home. This model offers a good balance of performance and portability suitable for everyday computing tasks.', price=349.0, url='https://www.dealnews.com/products/Dell/Dell-Inspiron-14-5440-13-th-Gen-i5-14-Laptop/491383.html?iref=rss-c39')]\n"
     ]
    }
   ],
   "source": [
    "print(result.deals)"
   ]
  },
  {
   "cell_type": "code",
   "execution_count": 28,
   "id": "9a8535c3-ec51-496f-9a92-a7c6a5154f0a",
   "metadata": {},
   "outputs": [
    {
     "data": {
      "text/plain": [
       "Deal(product_description='The Eco-Worthy 5.12kWh 48V 100AH Server Rack LiFePO4 Lithium Battery is designed for integration into standard 3U cabinets for server or storage use. It features a 100A battery management system (BMS) for safety and performance, wireless connectivity for smart monitoring, making it suitable for energy storage solutions with high capacity and intelligent management.', price=800.0, url='https://www.dealnews.com/Eco-Worthy-5-12-k-Wh-48-V-100-AH-Server-Rack-Li-Fe-PO4-Lithium-Battery-for-800-free-shipping/21753341.html?iref=rss-c142')"
      ]
     },
     "execution_count": 28,
     "metadata": {},
     "output_type": "execute_result"
    }
   ],
   "source": [
    "result.deals[2]"
   ]
  },
  {
   "cell_type": "code",
   "execution_count": 29,
   "id": "ee005f58-6b2b-4c79-9fcd-d3deac76de62",
   "metadata": {},
   "outputs": [],
   "source": [
    "from agents.scanner_agent import ScannerAgent"
   ]
  },
  {
   "cell_type": "code",
   "execution_count": 30,
   "id": "d8c84734-9bb5-4d2e-b0b1-29fc141d6b94",
   "metadata": {},
   "outputs": [],
   "source": [
    "agent = ScannerAgent()"
   ]
  },
  {
   "cell_type": "code",
   "execution_count": 31,
   "id": "82647473-f089-455d-a172-2151fe4894ad",
   "metadata": {},
   "outputs": [],
   "source": [
    "result = agent.scan()"
   ]
  },
  {
   "cell_type": "code",
   "execution_count": 32,
   "id": "f6e0e7f3-fdd1-492b-abbf-593933067ad5",
   "metadata": {},
   "outputs": [
    {
     "data": {
      "text/plain": [
       "DealSelection(deals=[Deal(product_description='The Oukitel BP2000 PRO is a powerful portable power station that can deliver an impressive 3,600W with a maximum output of 3,300W. It features a robust 2,048Wh LiFePO4 battery that promises a lifespan of up to ten years, ensuring you have a reliable power source for all your needs. This unit offers six different charging methods, including AC, solar, and car options, and can be monitored and controlled via Bluetooth and smart app technology. Additionally, the power station is expandable to accommodate up to seven battery expansions, making it an excellent choice for extended off-grid adventures.', price=999.0, url='https://www.dealnews.com/Oukitel-BP2000-PRO-3-600-W-2-048-Wh-Portable-Power-Station-for-999-free-shipping/21753698.html?iref=rss-c142'), Deal(product_description='The Vtoman FlashSpeed 1500 Portable Power Station is a versatile and compact energy source, boasting a capacity of 1,548Wh and delivering up to 1,500W of continuous power. It is equipped with three AC outlets and multiple USB ports, including USB-A and USB-C, allowing you to charge several devices simultaneously. This power station is particularly useful for outdoor activities, road trips, or as backup power during emergencies. It also highlights a lightweight design that makes it easy to transport, ensuring you can take power wherever you go.', price=408.0, url='https://www.dealnews.com/products/Vtoman/Vtoman-Flash-Speed-1500-1-548-Wh-Portable-Power-Station/436209.html?iref=rss-c142'), Deal(product_description='The Eco-Worthy 5.12kWh 48V 100AH Server Rack Lithium Battery delivers exceptional energy storage capabilities for various applications, including solar energy systems and backup power. It features wireless connectivity for smart monitoring, making it easy to keep track of its performance. Designed to fit standard 3U server cabinets, this battery is ideal for those seeking a source of reliable power for servers or other high-demand devices. The robust design ensures longevity and efficient energy use, providing an optimal solution for energy storage needs.', price=800.0, url='https://www.dealnews.com/Eco-Worthy-5-12-k-Wh-48-V-100-AH-Server-Rack-Li-Fe-PO4-Lithium-Battery-for-800-free-shipping/21753341.html?iref=rss-c142'), Deal(product_description='The Certified Refurb iRobot Roomba j7+ is a self-emptying robot vacuum that utilizes smart mapping technology to efficiently navigate and clean your home. It features a self-cleaning cartridge and a high-efficiency filter designed to capture dust and allergens. With its compact design, it is perfect for various floor types and can be controlled conveniently through an app. Offering a two-year warranty, this refurbished model provides peace of mind with its reliability at a more affordable price.', price=170.0, url='https://www.dealnews.com/products/iRobot/iRobot-Roomba-j7-Self-Emptying-Robot-Vacuum/455442.html?iref=rss-f1912'), Deal(product_description='The Keurig K-Supreme Smart Coffee Maker is an innovative machine designed to customize your coffee experience using BrewID technology. This Wi-Fi-enabled coffee maker allows you to adjust settings according to the specific K-Cup pod you are using, with the flexibility to choose from six temperature settings and five strength options. It features MultiStream technology that optimizes water flow for a richer coffee flavor. Compact and user-friendly, the K-Supreme makes brewing delicious coffee at home a simple pleasure.', price=119.0, url='https://www.dealnews.com/Keurig-K-Supreme-Smart-Coffee-Maker-for-119-free-shipping/21749829.html?iref=rss-f1912')])"
      ]
     },
     "execution_count": 32,
     "metadata": {},
     "output_type": "execute_result"
    }
   ],
   "source": [
    "result"
   ]
  },
  {
   "cell_type": "code",
   "execution_count": null,
   "id": "c1320dc8-93fe-49d9-85c4-9eb19a3aa16b",
   "metadata": {},
   "outputs": [],
   "source": []
  }
 ],
 "metadata": {
  "kernelspec": {
   "display_name": "Python 3 (ipykernel)",
   "language": "python",
   "name": "python3"
  },
  "language_info": {
   "codemirror_mode": {
    "name": "ipython",
    "version": 3
   },
   "file_extension": ".py",
   "mimetype": "text/x-python",
   "name": "python",
   "nbconvert_exporter": "python",
   "pygments_lexer": "ipython3",
   "version": "3.11.13"
  }
 },
 "nbformat": 4,
 "nbformat_minor": 5
}
