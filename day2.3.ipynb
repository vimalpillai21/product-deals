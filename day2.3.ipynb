{
 "cells": [
  {
   "cell_type": "code",
   "execution_count": 1,
   "id": "6e733c84-8c5a-4db0-bdbd-e1c1471149a1",
   "metadata": {},
   "outputs": [],
   "source": [
    "# imports\n",
    "\n",
    "import os\n",
    "import re\n",
    "import math\n",
    "import json\n",
    "from tqdm import tqdm\n",
    "import random\n",
    "from dotenv import load_dotenv\n",
    "from huggingface_hub import login\n",
    "import matplotlib.pyplot as plt\n",
    "import numpy as np\n",
    "import pickle\n",
    "from openai import OpenAI\n",
    "from sentence_transformers import SentenceTransformer\n",
    "from datasets import load_dataset\n",
    "import chromadb\n",
    "from testing import Tester"
   ]
  },
  {
   "cell_type": "code",
   "execution_count": 2,
   "id": "f8d6b390-bc25-4399-9138-f40cae3f04b0",
   "metadata": {},
   "outputs": [
    {
     "data": {
      "text/plain": [
       "True"
      ]
     },
     "execution_count": 2,
     "metadata": {},
     "output_type": "execute_result"
    }
   ],
   "source": [
    "load_dotenv(override=True)"
   ]
  },
  {
   "cell_type": "code",
   "execution_count": 3,
   "id": "9dea7308-edbd-4074-82a9-e1c0e4a3073d",
   "metadata": {},
   "outputs": [
    {
     "name": "stderr",
     "output_type": "stream",
     "text": [
      "Note: Environment variable`HF_TOKEN` is set and is the current active token independently from the token you've just configured.\n"
     ]
    }
   ],
   "source": [
    "# Log in to HuggingFace\n",
    "\n",
    "hf_token = os.environ['HF_TOKEN']\n",
    "login(hf_token)"
   ]
  },
  {
   "cell_type": "code",
   "execution_count": 4,
   "id": "72bd4138-1914-482f-a3d1-68d539349e96",
   "metadata": {},
   "outputs": [],
   "source": [
    "from items import Item"
   ]
  },
  {
   "cell_type": "code",
   "execution_count": 8,
   "id": "4af74f70-8fba-4c4f-9b3c-609f236acf5d",
   "metadata": {},
   "outputs": [],
   "source": [
    "openai = OpenAI()"
   ]
  },
  {
   "cell_type": "code",
   "execution_count": 10,
   "id": "5fcb1b27-8f21-4b2c-a93b-5d76212a9ecb",
   "metadata": {},
   "outputs": [],
   "source": [
    "with open(\"train.pkl\",\"rb\") as file:\n",
    "    train = pickle.load(file)"
   ]
  },
  {
   "cell_type": "code",
   "execution_count": 11,
   "id": "4b275170-f1e2-474c-93e9-5481b0f310d8",
   "metadata": {},
   "outputs": [],
   "source": [
    "def make_context(similars, prices):\n",
    "    message = \"To provide some context, here are some other items that might be similar to the item you need to estimate.\\n\\n\"\n",
    "    for similar, price in zip(similars, prices):\n",
    "        message += f\"Potentially related product:\\n{similar}\\nPrice is ${price:.2f}\\n\\n\"\n",
    "    return message"
   ]
  },
  {
   "cell_type": "code",
   "execution_count": 12,
   "id": "2e0fc9ba-3ba2-4306-ae07-a9d0ab814eb8",
   "metadata": {},
   "outputs": [],
   "source": [
    "def messages_for(item, similars, prices):\n",
    "    system_message = \"You estimate prices of items. Reply only with the price, no explanation\"\n",
    "    user_prompt = make_context(similars, prices)\n",
    "    user_prompt += \"And now the question for you:\\n\\n\"\n",
    "    user_prompt += item.test_prompt().replace(\" to the nearest dollar\",\"\").replace(\"\\n\\nPrice is $\",\"\")\n",
    "    return [\n",
    "        {\"role\": \"system\", \"content\": system_message},\n",
    "        {\"role\": \"user\", \"content\": user_prompt},\n",
    "        {\"role\": \"assistant\", \"content\": \"Price is $\"}\n",
    "    ]"
   ]
  },
  {
   "cell_type": "code",
   "execution_count": 13,
   "id": "3cc80e99-b75d-44b4-8c8d-ab9acde0b0cb",
   "metadata": {},
   "outputs": [],
   "source": [
    "DB = \"products_vectorstore\""
   ]
  },
  {
   "cell_type": "code",
   "execution_count": 14,
   "id": "fb142366-3924-49df-83d6-2e7215bc9e45",
   "metadata": {},
   "outputs": [],
   "source": [
    "client = chromadb.PersistentClient(path=DB)\n",
    "collection = client.get_collection(\"products\")"
   ]
  },
  {
   "cell_type": "code",
   "execution_count": 15,
   "id": "39e4d669-cd03-4831-8695-afe8448fe865",
   "metadata": {},
   "outputs": [],
   "source": [
    "def description(item):\n",
    "    text = item.prompt.replace(\"How much does this cost to the nearest dollar?\\n\\n\", \"\")\n",
    "    return text.split(\"\\n\\nPrice is $\")[0]"
   ]
  },
  {
   "cell_type": "code",
   "execution_count": 18,
   "id": "143b6b13-493c-4dc2-b16a-b251667873c0",
   "metadata": {},
   "outputs": [],
   "source": [
    "with open(\"test.pkl\",\"rb\") as file:\n",
    "    test = pickle.load(file)"
   ]
  },
  {
   "cell_type": "code",
   "execution_count": 19,
   "id": "ed187900-a725-4bfa-8973-6e7abf08fecd",
   "metadata": {},
   "outputs": [
    {
     "data": {
      "text/plain": [
       "\"OEM AC Compressor w/A/C Repair Kit For Ford F150 F-150 V8 & Lincoln Mark LT 2007 2008 - BuyAutoParts NEW\\nAs one of the world's largest automotive parts suppliers, our parts are trusted every day by mechanics and vehicle owners worldwide. This A/C Compressor and Components Kit is manufactured and tested to the strictest OE standards for unparalleled performance. Built for trouble-free ownership and 100% visually inspected and quality tested, this A/C Compressor and Components Kit is backed by our 100% satisfaction guarantee. Guaranteed Exact Fit for easy installation 100% BRAND NEW, premium ISO/TS 16949 quality - tested to meet or exceed OEM specifications Engineered for superior durability, backed by industry-leading unlimited-mileage warranty Included in this K\""
      ]
     },
     "execution_count": 19,
     "metadata": {},
     "output_type": "execute_result"
    }
   ],
   "source": [
    "description(test[0])"
   ]
  },
  {
   "cell_type": "code",
   "execution_count": 20,
   "id": "3009d96a-12e7-4942-b81d-a4ff295f14d0",
   "metadata": {},
   "outputs": [],
   "source": [
    "model = SentenceTransformer('sentence-transformers/all-MiniLM-L6-v2')"
   ]
  },
  {
   "cell_type": "code",
   "execution_count": 21,
   "id": "0813d60c-947d-4786-a3eb-f83a83d4d876",
   "metadata": {},
   "outputs": [],
   "source": [
    "def vector(item):\n",
    "    return model.encode([description(item)])"
   ]
  },
  {
   "cell_type": "code",
   "execution_count": 30,
   "id": "938d8c71-73db-4571-b531-37391128faa5",
   "metadata": {},
   "outputs": [],
   "source": [
    "def find_similars(item):\n",
    "    results = collection.query(query_embeddings=vector(item).astype(float).tolist(),n_results=5)\n",
    "    documents = results['documents'][0][:]\n",
    "    prices = [m['price'] for m in results['metadatas'][0][:]]\n",
    "    return documents, prices"
   ]
  },
  {
   "cell_type": "code",
   "execution_count": 31,
   "id": "eb11d471-7c8c-43c5-a3c2-694a3ac6685d",
   "metadata": {},
   "outputs": [
    {
     "name": "stdout",
     "output_type": "stream",
     "text": [
      "How much does this cost to the nearest dollar?\n",
      "\n",
      "Motorcraft YB3125 Fan Clutch\n",
      "Motorcraft YB3125 Fan Clutch Package Dimensions 25.146 cms (L) x 20.066 cms (W) x 15.494 cms (H) Package Quantity 1 Product Type Auto Part Country Of Origin China Manufacturer Motorcraft, Brand Motorcraft, Model Fan Clutch, Weight 5 pounds, Dimensions 10 x 7.63 x 6.25 inches, Country of Origin China, model number Exterior Painted, Manufacturer Part Rank Automotive Automotive Replacement Engine Fan Clutches 583, Domestic Shipping can be shipped within U.S., International Shipping This item can be shipped to select countries outside of the U.S. Learn More, Available October 10, 2007\n",
      "\n",
      "Price is $225.00\n"
     ]
    }
   ],
   "source": [
    "print(test[1].prompt)"
   ]
  },
  {
   "cell_type": "code",
   "execution_count": 32,
   "id": "c5f06970-abb8-45fb-9d2e-3bbaf6eda5ec",
   "metadata": {},
   "outputs": [
    {
     "name": "stdout",
     "output_type": "stream",
     "text": [
      "(['Four Seasons 78348 New AC Compressor\\nNew Compressor And Clutch Four Seasons 78348 New Nippondenso 10S17F Compressor w/ Clutch Part number 78348 Package Weight 14.55 pounds Package Dimensions 20.574 H x 28.194 L x 18.034 W (centimeters) Manufacturer Four Seasons, Brand Four Seasons, Weight 6 Pounds, Dimensions 11.3 x 7.2 x 7.8 inches, Country of Origin China, model number 78348, Manufacturer Part 78348, Voltage 120 Volts, Rank Automotive Automotive Replacement Air Conditioning Compressors 1383, Domestic Shipping can be shipped within U.S., International Shipping This item can be shipped to select countries outside of', 'Motorcraft YH-23 Blower Motor Resistor\\nMotorcraft YH-23 Blower Motor Resistor Package Dimensions 6.82 L x 2.36 H x 4.63 W (inches) Fit type Vehicle Specific Package Weight 1.83 pounds Country of Origin China Manufacturer MOTORCRAFT, Brand Motorcraft, Model YH23, Weight 0.01 ounces, Dimensions 4 x 1.75 x 4.06 inches, Country of Origin China, model number YH23, Is Discontinued No, Exterior Painted, Manufacturer Part YH23, OEM Part Rank Automotive Automotive Replacement Blower Motors 1555, Automotive Replacement Air Conditioning Products 6439, Available November 26, 2011', 'Spal 11 Straight Blade Low Profile Fan\\nElectric Cooling Fan - Medium Profile - 11 in Fan - Pusher - 962 CFM - Straight Blade - 12.20 x 11.75 x 2.48 in Thick - Plastic - Each Part Number Country Of Origin China Package Dimensions 8.89 L X 43.18 W X 45.72 H (Centimeters) Package Weight 1.995 Kilograms Brand Spal, Power Source Corded Electric, Style Modern, Dimensions 2.48\\\\ D x 11.75\\\\ W x 12.2\\\\ H, Recommended Uses For Product Cooling, Wattage 12 watts, Voltage 12 Volts, Weight 3.25 pounds, Manufacturer Spal, Country of Origin China, model', 'Motorcraft Compressor\\nMotorcraft A/C Compressor - YCC193 Fit type Vehicle Specific Package Dimensions 18.034 H x 27.686 L x 21.59 W (centimeters) Part number YCC193 Country of Origin China Brand Motorcraft, Recommended Uses For Product Air Conditioner, Included Components A/C Compressor, Weight 15.2 Pounds, Maximum Power 21.59 Watts, Dimensions LxWxH 7.31 x 6.69 x 10.38 inches, Style Portable, Model Name A/C Compressor, Manufacturer Motorcraft, Dimensions 7.31 x 6.69 x 10.38 inches, Country of Origin China, model number Exterior Machined, Manufacturer Part Rank Automotive Automotive Replacement Air Conditioning Compress', 'Motorcraft - Hub Asy - Wheel\\nPremium aftermarket replacement parts for Ford and Lincoln vehicles, Tested to provide performance and long-life reliability. Two-year unlimited mileage warranty, labor included and no commercial exceptions. Fit type Vehicle Specific Package Dimensions 7.31 L x 4.89 H x 6.25 W (inches) Package Weight 8.27 pounds Country of Origin United States Manufacturer Motorcraft, Brand Motorcraft, Model Wheel Hub, Weight 8 pounds, Dimensions 8.35 x 8.35 x 6.8 inches, model number HUB30, Exterior Painted, Manufacturer Part HUB30, OEM Part HUB30, Rank Automotive Automotive Replacement Hub Assemblies Bearings 32169, Available October 30, 2010'], [186.99, 33.55, 96.92, 204.78, 244.84])\n"
     ]
    }
   ],
   "source": [
    "print(find_similars(test[1]))"
   ]
  },
  {
   "cell_type": "code",
   "execution_count": 33,
   "id": "21f50ece-43ba-4f36-9afd-7f0c4b318245",
   "metadata": {},
   "outputs": [],
   "source": [
    "documents, prices = find_similars(test[1])"
   ]
  },
  {
   "cell_type": "code",
   "execution_count": 36,
   "id": "45f17f9d-c1b2-455a-8a39-3515d69eea9f",
   "metadata": {},
   "outputs": [
    {
     "data": {
      "text/plain": [
       "[186.99, 33.55, 96.92, 204.78, 244.84]"
      ]
     },
     "execution_count": 36,
     "metadata": {},
     "output_type": "execute_result"
    }
   ],
   "source": [
    "# documents\n",
    "prices"
   ]
  },
  {
   "cell_type": "code",
   "execution_count": 41,
   "id": "ff21fb11-6e15-4d26-8cb2-60cc7315e8ff",
   "metadata": {},
   "outputs": [
    {
     "name": "stdout",
     "output_type": "stream",
     "text": [
      "[{'role': 'system', 'content': 'You estimate prices of items. Reply only with the price, no explanation'}, {'role': 'user', 'content': 'To provide some context, here are some other items that might be similar to the item you need to estimate.\\n\\nPotentially related product:\\nFour Seasons 78348 New AC Compressor\\nNew Compressor And Clutch Four Seasons 78348 New Nippondenso 10S17F Compressor w/ Clutch Part number 78348 Package Weight 14.55 pounds Package Dimensions 20.574 H x 28.194 L x 18.034 W (centimeters) Manufacturer Four Seasons, Brand Four Seasons, Weight 6 Pounds, Dimensions 11.3 x 7.2 x 7.8 inches, Country of Origin China, model number 78348, Manufacturer Part 78348, Voltage 120 Volts, Rank Automotive Automotive Replacement Air Conditioning Compressors 1383, Domestic Shipping can be shipped within U.S., International Shipping This item can be shipped to select countries outside of\\nPrice is $186.99\\n\\nPotentially related product:\\nMotorcraft YH-23 Blower Motor Resistor\\nMotorcraft YH-23 Blower Motor Resistor Package Dimensions 6.82 L x 2.36 H x 4.63 W (inches) Fit type Vehicle Specific Package Weight 1.83 pounds Country of Origin China Manufacturer MOTORCRAFT, Brand Motorcraft, Model YH23, Weight 0.01 ounces, Dimensions 4 x 1.75 x 4.06 inches, Country of Origin China, model number YH23, Is Discontinued No, Exterior Painted, Manufacturer Part YH23, OEM Part Rank Automotive Automotive Replacement Blower Motors 1555, Automotive Replacement Air Conditioning Products 6439, Available November 26, 2011\\nPrice is $33.55\\n\\nPotentially related product:\\nSpal 11 Straight Blade Low Profile Fan\\nElectric Cooling Fan - Medium Profile - 11 in Fan - Pusher - 962 CFM - Straight Blade - 12.20 x 11.75 x 2.48 in Thick - Plastic - Each Part Number Country Of Origin China Package Dimensions 8.89 L X 43.18 W X 45.72 H (Centimeters) Package Weight 1.995 Kilograms Brand Spal, Power Source Corded Electric, Style Modern, Dimensions 2.48\\\\ D x 11.75\\\\ W x 12.2\\\\ H, Recommended Uses For Product Cooling, Wattage 12 watts, Voltage 12 Volts, Weight 3.25 pounds, Manufacturer Spal, Country of Origin China, model\\nPrice is $96.92\\n\\nPotentially related product:\\nMotorcraft Compressor\\nMotorcraft A/C Compressor - YCC193 Fit type Vehicle Specific Package Dimensions 18.034 H x 27.686 L x 21.59 W (centimeters) Part number YCC193 Country of Origin China Brand Motorcraft, Recommended Uses For Product Air Conditioner, Included Components A/C Compressor, Weight 15.2 Pounds, Maximum Power 21.59 Watts, Dimensions LxWxH 7.31 x 6.69 x 10.38 inches, Style Portable, Model Name A/C Compressor, Manufacturer Motorcraft, Dimensions 7.31 x 6.69 x 10.38 inches, Country of Origin China, model number Exterior Machined, Manufacturer Part Rank Automotive Automotive Replacement Air Conditioning Compress\\nPrice is $204.78\\n\\nPotentially related product:\\nMotorcraft - Hub Asy - Wheel\\nPremium aftermarket replacement parts for Ford and Lincoln vehicles, Tested to provide performance and long-life reliability. Two-year unlimited mileage warranty, labor included and no commercial exceptions. Fit type Vehicle Specific Package Dimensions 7.31 L x 4.89 H x 6.25 W (inches) Package Weight 8.27 pounds Country of Origin United States Manufacturer Motorcraft, Brand Motorcraft, Model Wheel Hub, Weight 8 pounds, Dimensions 8.35 x 8.35 x 6.8 inches, model number HUB30, Exterior Painted, Manufacturer Part HUB30, OEM Part HUB30, Rank Automotive Automotive Replacement Hub Assemblies Bearings 32169, Available October 30, 2010\\nPrice is $244.84\\n\\nAnd now the question for you:\\n\\nHow much does this cost?\\n\\nMotorcraft YB3125 Fan Clutch\\nMotorcraft YB3125 Fan Clutch Package Dimensions 25.146 cms (L) x 20.066 cms (W) x 15.494 cms (H) Package Quantity 1 Product Type Auto Part Country Of Origin China Manufacturer Motorcraft, Brand Motorcraft, Model Fan Clutch, Weight 5 pounds, Dimensions 10 x 7.63 x 6.25 inches, Country of Origin China, model number Exterior Painted, Manufacturer Part Rank Automotive Automotive Replacement Engine Fan Clutches 583, Domestic Shipping can be shipped within U.S., International Shipping This item can be shipped to select countries outside of the U.S. Learn More, Available October 10, 2007'}, {'role': 'assistant', 'content': 'Price is $'}]\n"
     ]
    }
   ],
   "source": [
    "print(messages_for(test[1],documents,prices))"
   ]
  },
  {
   "cell_type": "code",
   "execution_count": 42,
   "id": "c28a58bc-9934-4dee-9d52-4bd7cc22e50f",
   "metadata": {},
   "outputs": [],
   "source": [
    "def get_price(s):\n",
    "    s = s.replace('$','').replace(',','')\n",
    "    match = re.search(r\"[-+]?\\d*\\.\\d+|\\d+\", s)\n",
    "    return float(match.group()) if match else 0"
   ]
  },
  {
   "cell_type": "code",
   "execution_count": 43,
   "id": "b53fb564-008a-46e9-8b97-5c99c3d14dd0",
   "metadata": {},
   "outputs": [
    {
     "data": {
      "text/plain": [
       "9.783"
      ]
     },
     "execution_count": 43,
     "metadata": {},
     "output_type": "execute_result"
    }
   ],
   "source": [
    "get_price(\"The price is #$^$9.783\")"
   ]
  },
  {
   "cell_type": "code",
   "execution_count": 44,
   "id": "229f0f13-262a-4676-87da-841a5cc5c9e4",
   "metadata": {},
   "outputs": [],
   "source": [
    "def gpt_4_mini_rag(item):\n",
    "    documents, prices = find_similars(item)\n",
    "    response = openai.chat.completions.create(\n",
    "        model=\"gpt-4.1-mini\",\n",
    "        messages=messages_for(item, documents, prices),\n",
    "        seed=42,\n",
    "        max_tokens=5\n",
    "    )\n",
    "    reply = response.choices[0].message.content\n",
    "    return get_price(reply)"
   ]
  },
  {
   "cell_type": "code",
   "execution_count": 45,
   "id": "478b6792-1556-4b76-a7fe-df91bc3ce736",
   "metadata": {},
   "outputs": [
    {
     "data": {
      "text/plain": [
       "329.99"
      ]
     },
     "execution_count": 45,
     "metadata": {},
     "output_type": "execute_result"
    }
   ],
   "source": [
    "gpt_4_mini_rag(test[0])"
   ]
  },
  {
   "cell_type": "code",
   "execution_count": 46,
   "id": "f8757ef1-f8a0-482b-ba55-cee1fa6d289f",
   "metadata": {},
   "outputs": [
    {
     "data": {
      "text/plain": [
       "225.11"
      ]
     },
     "execution_count": 46,
     "metadata": {},
     "output_type": "execute_result"
    }
   ],
   "source": [
    "test[1].price"
   ]
  },
  {
   "cell_type": "code",
   "execution_count": 47,
   "id": "0c479a3d-3bce-4272-8397-7b46b166c9db",
   "metadata": {},
   "outputs": [
    {
     "name": "stdout",
     "output_type": "stream",
     "text": [
      "\u001b[92m1: Guess: $329.99 Truth: $374.41 Error: $44.42 SLE: 0.02 Item: OEM AC Compressor w/A/C Repair Kit For F...\u001b[0m\n",
      "\u001b[91m2: Guess: $115.47 Truth: $225.11 Error: $109.64 SLE: 0.44 Item: Motorcraft YB3125 Fan Clutch\u001b[0m\n",
      "\u001b[92m3: Guess: $47.85 Truth: $61.68 Error: $13.83 SLE: 0.06 Item: Dorman 603-159 Front Washer Fluid Reserv...\u001b[0m\n",
      "\u001b[93m4: Guess: $375.99 Truth: $599.99 Error: $224.00 SLE: 0.22 Item: HP Premium 17.3-inch HD Plus Touchscreen...\u001b[0m\n",
      "\u001b[92m5: Guess: $15.95 Truth: $16.99 Error: $1.04 SLE: 0.00 Item: 5-Position Super Switch Pickup Selector ...\u001b[0m\n",
      "\u001b[92m6: Guess: $15.99 Truth: $31.99 Error: $16.00 SLE: 0.44 Item: Horror Bookmarks, Resin Horror Bookmarks...\u001b[0m\n",
      "\u001b[92m7: Guess: $89.99 Truth: $101.79 Error: $11.80 SLE: 0.01 Item: SK6241 - Stinger 4 Gauge 6000 Series Pow...\u001b[0m\n",
      "\u001b[92m8: Guess: $269.00 Truth: $289.00 Error: $20.00 SLE: 0.01 Item: Godox ML60Bi LED Light Kit, Handheld LED...\u001b[0m\n",
      "\u001b[92m9: Guess: $599.99 Truth: $635.86 Error: $35.87 SLE: 0.00 Item: Randall RG75DG3PLUS G3 Plus 100-Watt Com...\u001b[0m\n",
      "\u001b[92m10: Guess: $74.00 Truth: $65.99 Error: $8.01 SLE: 0.01 Item: HOLDWILL 6 Pack LED Shop Light, 4FT 24W ...\u001b[0m\n",
      "\u001b[92m11: Guess: $254.99 Truth: $254.21 Error: $0.78 SLE: 0.00 Item: Viking Horns V103C/1005ATK 3 Gallon Air ...\u001b[0m\n",
      "\u001b[91m12: Guess: $120.00 Truth: $412.99 Error: $292.99 SLE: 1.51 Item: CURT 70110 Custom Tow Bar Base Plate Bra...\u001b[0m\n",
      "\u001b[93m13: Guess: $129.00 Truth: $205.50 Error: $76.50 SLE: 0.21 Item: 10-Pack Solar HAMMERED BRONZE Finish Pos...\u001b[0m\n",
      "\u001b[91m14: Guess: $139.99 Truth: $248.23 Error: $108.24 SLE: 0.32 Item: COSTWAY Electric Tumble Dryer, Sliver\u001b[0m\n",
      "\u001b[91m15: Guess: $209.99 Truth: $399.00 Error: $189.01 SLE: 0.41 Item: FREE SIGNAL TV Transit 32\" 12 Volt DC Po...\u001b[0m\n",
      "\u001b[92m16: Guess: $350.00 Truth: $373.94 Error: $23.94 SLE: 0.00 Item: Bilstein 5100 Monotube Gas Shock Set com...\u001b[0m\n",
      "\u001b[93m17: Guess: $169.99 Truth: $92.89 Error: $77.10 SLE: 0.36 Item: Sangean K-200 Multi-Function Upright AM/...\u001b[0m\n",
      "\u001b[92m18: Guess: $41.99 Truth: $51.99 Error: $10.00 SLE: 0.04 Item: Charles Leonard Magnetic Lapboard Class ...\u001b[0m\n",
      "\u001b[91m19: Guess: $278.75 Truth: $179.00 Error: $99.75 SLE: 0.19 Item: Gigabyte AMD Radeon HD 7870 2 GB GDDR5 D...\u001b[0m\n",
      "\u001b[92m20: Guess: $11.99 Truth: $19.42 Error: $7.43 SLE: 0.20 Item: 3dRose LLC 8 x 8 x 0.25 Inches Bull Terr...\u001b[0m\n",
      "\u001b[93m21: Guess: $699.00 Truth: $539.95 Error: $159.05 SLE: 0.07 Item: ROKINON 85mm F1.4 Auto Focus Full Frame ...\u001b[0m\n",
      "\u001b[92m22: Guess: $175.00 Truth: $147.67 Error: $27.33 SLE: 0.03 Item: AUTOSAVER88 Headlight Assembly Compatibl...\u001b[0m\n",
      "\u001b[92m23: Guess: $29.99 Truth: $24.99 Error: $5.00 SLE: 0.03 Item: ASI NAUTICAL 2.5 Inches Opera Glasses Bi...\u001b[0m\n",
      "\u001b[93m24: Guess: $75.00 Truth: $149.00 Error: $74.00 SLE: 0.46 Item: Behringer TUBE OVERDRIVE TO100 Authentic...\u001b[0m\n",
      "\u001b[92m25: Guess: $12.99 Truth: $16.99 Error: $4.00 SLE: 0.06 Item: Fun Express Insect Finger Puppets - 24 f...\u001b[0m\n",
      "\u001b[92m26: Guess: $14.99 Truth: $7.99 Error: $7.00 SLE: 0.33 Item: WAFJAMF Roller Stamp Identity Theft Stam...\u001b[0m\n",
      "\u001b[92m27: Guess: $195.00 Truth: $199.99 Error: $4.99 SLE: 0.00 Item: Capulina Tiffany Floor Lamp 2-Light 16\" ...\u001b[0m\n",
      "\u001b[92m28: Guess: $225.00 Truth: $251.45 Error: $26.45 SLE: 0.01 Item: Apple Watch Series 6 (GPS, 44mm) - Space...\u001b[0m\n",
      "\u001b[92m29: Guess: $210.00 Truth: $231.62 Error: $21.62 SLE: 0.01 Item: ICON 01725 Tandem Axle Fender Skirt FS17...\u001b[0m\n",
      "\u001b[92m30: Guess: $124.99 Truth: $135.00 Error: $10.01 SLE: 0.01 Item: SanDisk 128GB Ultra (10 Pack) MicroSD Cl...\u001b[0m\n",
      "\u001b[92m31: Guess: $306.99 Truth: $356.62 Error: $49.63 SLE: 0.02 Item: Velvac 2020,L,C/Hr,W,E2003,102\",Bk - 715...\u001b[0m\n",
      "\u001b[92m32: Guess: $249.99 Truth: $257.99 Error: $8.00 SLE: 0.00 Item: TCMT Passenger Backrest Sissy Bar & Lugg...\u001b[0m\n",
      "\u001b[92m33: Guess: $22.45 Truth: $27.99 Error: $5.54 SLE: 0.04 Item: Alnicov 63.5MM Brass Tremolo Block，Tremo...\u001b[0m\n",
      "\u001b[93m34: Guess: $95.00 Truth: $171.20 Error: $76.20 SLE: 0.34 Item: Subaru Forester Outback Legacy OEM Engin...\u001b[0m\n",
      "\u001b[92m35: Guess: $195.00 Truth: $225.00 Error: $30.00 SLE: 0.02 Item: Richmond Auto Upholstery - 2012 Dodge Ra...\u001b[0m\n",
      "\u001b[92m36: Guess: $115.99 Truth: $105.00 Error: $10.99 SLE: 0.01 Item: AP-39 Automotive Paint Primer Grey 2K Ur...\u001b[0m\n",
      "\u001b[92m37: Guess: $319.99 Truth: $299.99 Error: $20.00 SLE: 0.00 Item: Road Top Wireless Carplay Retrofit Kit D...\u001b[0m\n",
      "\u001b[92m38: Guess: $509.99 Truth: $535.09 Error: $25.10 SLE: 0.00 Item: Gibson Performance Exhaust 5658 Aluminiz...\u001b[0m\n",
      "\u001b[92m39: Guess: $19.99 Truth: $12.33 Error: $7.66 SLE: 0.21 Item: Bella Tunno Happy Links - Baby Montessor...\u001b[0m\n",
      "\u001b[92m40: Guess: $109.99 Truth: $84.99 Error: $25.00 SLE: 0.07 Item: CANMORE H300 Handheld GPS Golf Device, S...\u001b[0m\n",
      "\u001b[92m41: Guess: $12.99 Truth: $15.99 Error: $3.00 SLE: 0.04 Item: DCPOWER AC Adapter Compatible Replacemen...\u001b[0m\n",
      "\u001b[93m42: Guess: $22.00 Truth: $62.44 Error: $40.44 SLE: 1.03 Item: Sharp, VX2128V, Commercial Desktop Calcu...\u001b[0m\n",
      "\u001b[92m43: Guess: $109.99 Truth: $82.99 Error: $27.00 SLE: 0.08 Item: Melissa & Doug Lifelike Plush Stork Gian...\u001b[0m\n",
      "\u001b[91m44: Guess: $249.99 Truth: $599.95 Error: $349.96 SLE: 0.76 Item: Sony SSCS8 2-Way 3-Driver Center Channel...\u001b[0m\n",
      "\u001b[93m45: Guess: $269.99 Truth: $194.99 Error: $75.00 SLE: 0.10 Item: ASUS Chromebook CX1, 14\" Full HD NanoEdg...\u001b[0m\n",
      "\u001b[91m46: Guess: $699.00 Truth: $344.95 Error: $354.05 SLE: 0.50 Item: FiiO X7 32GB Hi-Res Lossless Music Playe...\u001b[0m\n",
      "\u001b[92m47: Guess: $37.99 Truth: $37.99 Error: $0.00 SLE: 0.00 Item: TORRO Leather Case Compatible with iPhon...\u001b[0m\n",
      "\u001b[92m48: Guess: $227.43 Truth: $224.35 Error: $3.08 SLE: 0.00 Item: Universal Air Conditioner KT 1031 A/C Co...\u001b[0m\n",
      "\u001b[92m49: Guess: $832.00 Truth: $814.00 Error: $18.00 SLE: 0.00 Item: Street Series Stainless Performance Cat-...\u001b[0m\n",
      "\u001b[92m50: Guess: $399.99 Truth: $439.88 Error: $39.89 SLE: 0.01 Item: Lenovo IdeaPad 3 14-inch Laptop, 14.0-in...\u001b[0m\n",
      "\u001b[92m51: Guess: $278.53 Truth: $341.43 Error: $62.90 SLE: 0.04 Item: Access Bed Covers TonnoSport 22050219 - ...\u001b[0m\n",
      "\u001b[92m52: Guess: $24.99 Truth: $46.78 Error: $21.79 SLE: 0.37 Item: G.I. JOE Hasbro 3 3/4\" Wave 5 Action Fig...\u001b[0m\n",
      "\u001b[92m53: Guess: $179.99 Truth: $171.44 Error: $8.55 SLE: 0.00 Item: T&S Brass B-0232-BST Double Pantry Fauce...\u001b[0m\n",
      "\u001b[92m54: Guess: $372.00 Truth: $458.00 Error: $86.00 SLE: 0.04 Item: ZTUOAUMA Fuel Injection Pump 3090942 309...\u001b[0m\n",
      "\u001b[92m55: Guess: $149.99 Truth: $130.75 Error: $19.24 SLE: 0.02 Item: 2AP18AA#ABA Hp Prime Graphing Calculator...\u001b[0m\n",
      "\u001b[92m56: Guess: $59.00 Truth: $83.81 Error: $24.81 SLE: 0.12 Item: Lowrance 000-0119-83 Nmea 2000 25' Exten...\u001b[0m\n",
      "\u001b[91m57: Guess: $120.00 Truth: $386.39 Error: $266.39 SLE: 1.35 Item: Jeep Genuine Accessories 82213051 Hood L...\u001b[0m\n",
      "\u001b[93m58: Guess: $120.00 Truth: $169.00 Error: $49.00 SLE: 0.12 Item: GODOX CB-06 Hard Carrying Case with Whee...\u001b[0m\n",
      "\u001b[92m59: Guess: $19.95 Truth: $17.95 Error: $2.00 SLE: 0.01 Item: Au-Tomotive Gold, INC. Ford Black Valet ...\u001b[0m\n",
      "\u001b[93m60: Guess: $339.00 Truth: $269.00 Error: $70.00 SLE: 0.05 Item: Snailfly Black Roof Rack Rail + Cross Ba...\u001b[0m\n",
      "\u001b[92m61: Guess: $89.99 Truth: $77.77 Error: $12.22 SLE: 0.02 Item: KING SHA Anti Glare LED Track Lighting H...\u001b[0m\n",
      "\u001b[92m62: Guess: $82.99 Truth: $88.99 Error: $6.00 SLE: 0.00 Item: APS Compatible with Chevy Silverado 1500...\u001b[0m\n",
      "\u001b[92m63: Guess: $295.00 Truth: $364.41 Error: $69.41 SLE: 0.04 Item: Wilwood Engineering 14011291R Brake Cali...\u001b[0m\n",
      "\u001b[92m64: Guess: $154.28 Truth: $127.03 Error: $27.25 SLE: 0.04 Item: ACDelco Gold 336-1925A Starter, Remanufa...\u001b[0m\n",
      "\u001b[93m65: Guess: $569.95 Truth: $778.95 Error: $209.00 SLE: 0.10 Item: UWS EC10783 69-Inch Matte Black Heavy-Wa...\u001b[0m\n",
      "\u001b[92m66: Guess: $200.00 Truth: $206.66 Error: $6.66 SLE: 0.00 Item: Dell Latitude E5440 14in Business Laptop...\u001b[0m\n",
      "\u001b[93m67: Guess: $79.99 Truth: $35.94 Error: $44.05 SLE: 0.62 Item: (Plug and Play) Spare Tire Brake Light W...\u001b[0m\n",
      "\u001b[92m68: Guess: $129.99 Truth: $149.00 Error: $19.01 SLE: 0.02 Item: The Ultimate Roadside Rescue Assistant\u001b[0m\n",
      "\u001b[92m69: Guess: $276.95 Truth: $251.98 Error: $24.97 SLE: 0.01 Item: Brand New 18\" x 8.5\" Replacement Wheel f...\u001b[0m\n",
      "\u001b[92m70: Guess: $168.75 Truth: $160.00 Error: $8.75 SLE: 0.00 Item: Headlight Headlamp LH Left & RH Right Pa...\u001b[0m\n",
      "\u001b[92m71: Guess: $45.00 Truth: $39.99 Error: $5.01 SLE: 0.01 Item: Lilo And Stitch Deluxe Oversize Print La...\u001b[0m\n",
      "\u001b[93m72: Guess: $245.00 Truth: $362.41 Error: $117.41 SLE: 0.15 Item: AC Compressor & A/C Clutch For Hyundai A...\u001b[0m\n",
      "\u001b[92m73: Guess: $372.00 Truth: $344.00 Error: $28.00 SLE: 0.01 Item: House Of Troy PIN475-AB Pinnacle Collect...\u001b[0m\n",
      "\u001b[92m74: Guess: $45.67 Truth: $25.09 Error: $20.58 SLE: 0.34 Item: Juno T29 WH Floating Electrical Feed Sin...\u001b[0m\n",
      "\u001b[91m75: Guess: $51.61 Truth: $175.95 Error: $124.34 SLE: 1.47 Item: Sherman GO-PARTS - for 2013-2016 Toyota ...\u001b[0m\n",
      "\u001b[92m76: Guess: $169.99 Truth: $132.64 Error: $37.35 SLE: 0.06 Item: Roland RPU-3 Electronic Keyboard Pedal o...\u001b[0m\n",
      "\u001b[93m77: Guess: $559.99 Truth: $422.99 Error: $137.00 SLE: 0.08 Item: Rockland VMI14 12,000 Pound 12 Volt DC E...\u001b[0m\n",
      "\u001b[92m78: Guess: $150.65 Truth: $146.48 Error: $4.17 SLE: 0.00 Item: Max Advanced Brakes Elite XDS Front Cros...\u001b[0m\n",
      "\u001b[92m79: Guess: $183.00 Truth: $156.83 Error: $26.17 SLE: 0.02 Item: Quality-Built 11030 Premium Quality Alte...\u001b[0m\n",
      "\u001b[91m80: Guess: $79.99 Truth: $251.99 Error: $172.00 SLE: 1.30 Item: Lucida LG-510 Student Classical Guitar, ...\u001b[0m\n",
      "\u001b[91m81: Guess: $160.00 Truth: $940.33 Error: $780.33 SLE: 3.12 Item: Longacre 52-79800 Aluminum Turn Plates\u001b[0m\n",
      "\u001b[92m82: Guess: $24.99 Truth: $52.99 Error: $28.00 SLE: 0.53 Item: Motion Pro 08-0380 Adjustable Torque Wre...\u001b[0m\n",
      "\u001b[92m83: Guess: $200.00 Truth: $219.95 Error: $19.95 SLE: 0.01 Item: Glyph Thunderbolt 3 NVMe Dock (0 GB)\u001b[0m\n",
      "\u001b[93m84: Guess: $312.75 Truth: $441.03 Error: $128.28 SLE: 0.12 Item: TOYO Open Country MT Performance Radial ...\u001b[0m\n",
      "\u001b[92m85: Guess: $199.00 Truth: $168.98 Error: $30.02 SLE: 0.03 Item: Razer Seiren X USB Streaming Microphone ...\u001b[0m\n",
      "\u001b[92m86: Guess: $4.99 Truth: $2.49 Error: $2.50 SLE: 0.29 Item: Happy Birthday to Dad From Your Daughter...\u001b[0m\n",
      "\u001b[92m87: Guess: $99.99 Truth: $98.62 Error: $1.37 SLE: 0.00 Item: Little Tikes My Real Jam First Concert S...\u001b[0m\n",
      "\u001b[91m88: Guess: $144.00 Truth: $256.95 Error: $112.95 SLE: 0.33 Item: Studio M Peace and Harmony Art Pole Comm...\u001b[0m\n",
      "\u001b[92m89: Guess: $24.99 Truth: $30.99 Error: $6.00 SLE: 0.04 Item: MyVolts 12V Power Supply Adaptor Compati...\u001b[0m\n",
      "\u001b[93m90: Guess: $721.50 Truth: $569.84 Error: $151.66 SLE: 0.06 Item: Dell Latitude 7212 Rugged Extreme Tablet...\u001b[0m\n",
      "\u001b[93m91: Guess: $114.99 Truth: $177.99 Error: $63.00 SLE: 0.19 Item: Covermates Contour Fit Car Cover - Light...\u001b[0m\n",
      "\u001b[92m92: Guess: $997.99 Truth: $997.99 Error: $0.00 SLE: 0.00 Item: Westin 57-4025 Black HDX Grille Guard fi...\u001b[0m\n",
      "\u001b[91m93: Guess: $339.00 Truth: $219.00 Error: $120.00 SLE: 0.19 Item: Fieldpiece JL2 Job Link Wireless App Tra...\u001b[0m\n",
      "\u001b[92m94: Guess: $267.50 Truth: $225.55 Error: $41.95 SLE: 0.03 Item: hansgrohe Talis S Modern Premium Easy Cl...\u001b[0m\n",
      "\u001b[91m95: Guess: $1,299.00 Truth: $495.95 Error: $803.05 SLE: 0.92 Item: G-Technology G-SPEED eS PRO High-Perform...\u001b[0m\n",
      "\u001b[92m96: Guess: $799.99 Truth: $942.37 Error: $142.38 SLE: 0.03 Item: DreamLine SHDR-1960723L-01 Shower Door, ...\u001b[0m\n",
      "\u001b[92m97: Guess: $12.50 Truth: $1.94 Error: $10.56 SLE: 2.32 Item: Sanctuary Square Backplate Finish: Oiled...\u001b[0m\n",
      "\u001b[91m98: Guess: $449.95 Truth: $284.34 Error: $165.61 SLE: 0.21 Item: Pelican Protector 1750 Long Case - Multi...\u001b[0m\n",
      "\u001b[92m99: Guess: $178.45 Truth: $171.90 Error: $6.55 SLE: 0.00 Item: Brock Replacement Driver and Passenger H...\u001b[0m\n",
      "\u001b[92m100: Guess: $130.99 Truth: $144.99 Error: $14.00 SLE: 0.01 Item: Carlinkit Ai Box Mini, Android 11, Multi...\u001b[0m\n",
      "\u001b[93m101: Guess: $345.00 Truth: $470.47 Error: $125.47 SLE: 0.10 Item: StarDot NetCamLIVE2 YouTube Live Stream ...\u001b[0m\n",
      "\u001b[92m102: Guess: $55.00 Truth: $66.95 Error: $11.95 SLE: 0.04 Item: Atomic Compatible FILXXCAR0016 16x25x5 M...\u001b[0m\n",
      "\u001b[93m103: Guess: $65.00 Truth: $117.00 Error: $52.00 SLE: 0.34 Item: Bandai Awakening of S. H. s.h.figuarts s...\u001b[0m\n",
      "\u001b[93m104: Guess: $229.99 Truth: $172.14 Error: $57.85 SLE: 0.08 Item: Fit System 62135G Passenger Side Towing ...\u001b[0m\n",
      "\u001b[92m105: Guess: $388.76 Truth: $392.74 Error: $3.98 SLE: 0.00 Item: Black Horse Black Aluminum Exceed Runnin...\u001b[0m\n",
      "\u001b[92m106: Guess: $22.99 Truth: $16.99 Error: $6.00 SLE: 0.08 Item: Dearsun Twinkle Star Color Night Light P...\u001b[0m\n",
      "\u001b[92m107: Guess: $2.25 Truth: $1.34 Error: $0.91 SLE: 0.11 Item: Pokemon - Gallade Spirit Link (83/108) -...\u001b[0m\n",
      "\u001b[91m108: Guess: $179.99 Truth: $349.98 Error: $169.99 SLE: 0.44 Item: Ibanez GA34STCE-NT GIO Series Classical ...\u001b[0m\n",
      "\u001b[92m109: Guess: $420.00 Truth: $370.71 Error: $49.29 SLE: 0.02 Item: Set 2 Heavy Duty 12-16.5 12x16.5 12 Ply ...\u001b[0m\n",
      "\u001b[92m110: Guess: $69.99 Truth: $65.88 Error: $4.11 SLE: 0.00 Item: Hairpin Table Legs 28\" Heavy Duty Hairpi...\u001b[0m\n",
      "\u001b[93m111: Guess: $299.99 Truth: $229.99 Error: $70.00 SLE: 0.07 Item: Marada Racing Seat with Adjustable Slide...\u001b[0m\n",
      "\u001b[92m112: Guess: $20.75 Truth: $9.14 Error: $11.61 SLE: 0.58 Item: Remington Industries 24UL1007STRWHI25 24...\u001b[0m\n",
      "\u001b[93m113: Guess: $249.99 Truth: $199.00 Error: $50.99 SLE: 0.05 Item: Acer S3-391-6046 13.3-inch Ultrabook, In...\u001b[0m\n",
      "\u001b[93m114: Guess: $179.00 Truth: $109.99 Error: $69.01 SLE: 0.23 Item: ICBEAMER 7\" RGB LED Headlights Bulb Halo...\u001b[0m\n",
      "\u001b[93m115: Guess: $414.50 Truth: $570.42 Error: $155.92 SLE: 0.10 Item: R1 Concepts Front Rear Brakes and Rotors...\u001b[0m\n",
      "\u001b[93m116: Guess: $219.99 Truth: $279.99 Error: $60.00 SLE: 0.06 Item: Camplux 2.64 GPM Tankless , Outdoor Port...\u001b[0m\n",
      "\u001b[92m117: Guess: $24.99 Truth: $30.99 Error: $6.00 SLE: 0.04 Item: KNOKLOCK 10 Pack 3.75 Inch(96mm) Kitchen...\u001b[0m\n",
      "\u001b[92m118: Guess: $29.95 Truth: $31.99 Error: $2.04 SLE: 0.00 Item: Valley Enterprises Yaesu USB FTDI CT-62 ...\u001b[0m\n",
      "\u001b[92m119: Guess: $14.99 Truth: $15.90 Error: $0.91 SLE: 0.00 Item: G9 LED Light Bulbs，8W，75W 100W replaceme...\u001b[0m\n",
      "\u001b[93m120: Guess: $120.00 Truth: $45.99 Error: $74.01 SLE: 0.89 Item: ZCHAOZ 4 Lights Antique White Farmhouse ...\u001b[0m\n",
      "\u001b[91m121: Guess: $195.00 Truth: $113.52 Error: $81.48 SLE: 0.29 Item: Honeywell TH8320R1003 Honeywell VisionPr...\u001b[0m\n",
      "\u001b[93m122: Guess: $382.45 Truth: $516.99 Error: $134.54 SLE: 0.09 Item: Patriot Exhaust H8013-1 1-7/8\" Clippster...\u001b[0m\n",
      "\u001b[93m123: Guess: $122.50 Truth: $196.99 Error: $74.49 SLE: 0.22 Item: Fitrite Autopart New Front Left Driver S...\u001b[0m\n",
      "\u001b[92m124: Guess: $22.49 Truth: $46.55 Error: $24.06 SLE: 0.50 Item: Technical Precision Replacement for GE G...\u001b[0m\n",
      "\u001b[92m125: Guess: $328.99 Truth: $356.99 Error: $28.00 SLE: 0.01 Item: Covercraft Carhartt SeatSaver Front Row ...\u001b[0m\n",
      "\u001b[91m126: Guess: $479.00 Truth: $319.95 Error: $159.05 SLE: 0.16 Item: Sennheiser SD Pro 2 (506008) - Double-Si...\u001b[0m\n",
      "\u001b[92m127: Guess: $135.42 Truth: $96.06 Error: $39.36 SLE: 0.12 Item: Hitachi MAF0110 Mass Air Flow Sensor\u001b[0m\n",
      "\u001b[91m128: Guess: $329.99 Truth: $190.99 Error: $139.00 SLE: 0.30 Item: AmScope SE305R-P-LED-PS36A 10X-30X LED C...\u001b[0m\n",
      "\u001b[91m129: Guess: $72.50 Truth: $257.95 Error: $185.45 SLE: 1.59 Item: Front Left Driver Side Window Regulator ...\u001b[0m\n",
      "\u001b[92m130: Guess: $64.50 Truth: $62.95 Error: $1.55 SLE: 0.00 Item: Premium Replica Hubcap Set, Fits Nissan ...\u001b[0m\n",
      "\u001b[92m131: Guess: $22.49 Truth: $47.66 Error: $25.17 SLE: 0.53 Item: Excellerations Phonics Spelling Game for...\u001b[0m\n",
      "\u001b[91m132: Guess: $489.99 Truth: $226.99 Error: $263.00 SLE: 0.59 Item: RC4WD BigDog Dual Axle Scale Car/Truck T...\u001b[0m\n",
      "\u001b[92m133: Guess: $325.00 Truth: $359.95 Error: $34.95 SLE: 0.01 Item: Unknown Stage 2 Clutch Kit - Low Altitud...\u001b[0m\n",
      "\u001b[93m134: Guess: $24.99 Truth: $78.40 Error: $53.41 SLE: 1.25 Item: 2002-2008 Dodge Ram 1500 Mopar 4X4 Emble...\u001b[0m\n",
      "\u001b[92m135: Guess: $198.75 Truth: $172.77 Error: $25.98 SLE: 0.02 Item: Pro Comp Alloys Series 89 Wheel with Pol...\u001b[0m\n",
      "\u001b[92m136: Guess: $349.98 Truth: $316.45 Error: $33.53 SLE: 0.01 Item: Detroit Axle - Front Rear Strut & Coil S...\u001b[0m\n",
      "\u001b[92m137: Guess: $53.99 Truth: $87.99 Error: $34.00 SLE: 0.23 Item: ECCPP Rear Wheel Axle Replacement fit fo...\u001b[0m\n",
      "\u001b[92m138: Guess: $209.99 Truth: $226.63 Error: $16.64 SLE: 0.01 Item: Dell Latitude E6520 Intel i7-2720QM 2.20...\u001b[0m\n",
      "\u001b[92m139: Guess: $24.75 Truth: $31.49 Error: $6.74 SLE: 0.05 Item: F FIERCE CYCLE 251pcs Black Universal Mo...\u001b[0m\n",
      "\u001b[91m140: Guess: $276.00 Truth: $196.00 Error: $80.00 SLE: 0.12 Item: Flash Furniture 4 Pk. HERCULES Series 88...\u001b[0m\n",
      "\u001b[92m141: Guess: $42.99 Truth: $78.40 Error: $35.41 SLE: 0.35 Item: B&M 30287 Throttle Valve/Kickdown Cable,...\u001b[0m\n",
      "\u001b[93m142: Guess: $180.34 Truth: $116.25 Error: $64.09 SLE: 0.19 Item: Gates TCK226 PowerGrip Premium Timing Be...\u001b[0m\n",
      "\u001b[92m143: Guess: $148.75 Truth: $112.78 Error: $35.97 SLE: 0.08 Item: Monroe Shocks & Struts Quick-Strut 17149...\u001b[0m\n",
      "\u001b[92m144: Guess: $49.99 Truth: $27.32 Error: $22.67 SLE: 0.35 Item: Feit Electric BPMR16/GU10/930CA/6 35W EQ...\u001b[0m\n",
      "\u001b[92m145: Guess: $109.95 Truth: $145.91 Error: $35.96 SLE: 0.08 Item: Yellow Jacket 2806 Contractor Extension ...\u001b[0m\n",
      "\u001b[92m146: Guess: $207.60 Truth: $171.09 Error: $36.51 SLE: 0.04 Item: Garage-Pro Tailgate SET Compatible with ...\u001b[0m\n",
      "\u001b[91m147: Guess: $62.50 Truth: $167.95 Error: $105.45 SLE: 0.96 Item: 3M Perfect It Buffing and Polishing Kit ...\u001b[0m\n",
      "\u001b[92m148: Guess: $36.50 Truth: $28.49 Error: $8.01 SLE: 0.06 Item: Chinese Style Dollhouse Model DIY Miniat...\u001b[0m\n",
      "\u001b[92m149: Guess: $120.00 Truth: $122.23 Error: $2.23 SLE: 0.00 Item: Generic NRG Innovations SRK-161H Steerin...\u001b[0m\n",
      "\u001b[92m150: Guess: $49.99 Truth: $32.99 Error: $17.00 SLE: 0.16 Item: Learning Resources Coding Critters Range...\u001b[0m\n",
      "\u001b[92m151: Guess: $93.50 Truth: $71.20 Error: $22.30 SLE: 0.07 Item: Bosch Automotive 15463 Oxygen Sensor, OE...\u001b[0m\n",
      "\u001b[92m152: Guess: $120.00 Truth: $112.75 Error: $7.25 SLE: 0.00 Item: Case of 24-2 Inch Blue Painters Tape - 6...\u001b[0m\n",
      "\u001b[92m153: Guess: $154.99 Truth: $142.43 Error: $12.56 SLE: 0.01 Item: MOCA Engine Water Pump & Fan Clutch fit ...\u001b[0m\n",
      "\u001b[93m154: Guess: $315.00 Truth: $398.99 Error: $83.99 SLE: 0.06 Item: SAREMAS Foot Step Bars for Hyundai Palis...\u001b[0m\n",
      "\u001b[91m155: Guess: $1,199.00 Truth: $449.00 Error: $750.00 SLE: 0.96 Item: Gretsch G9210 Square Neck Boxcar Mahogan...\u001b[0m\n",
      "\u001b[92m156: Guess: $189.99 Truth: $189.00 Error: $0.99 SLE: 0.00 Item: NikoMaku Mirror Dash Cam Front and Rear ...\u001b[0m\n",
      "\u001b[92m157: Guess: $119.95 Truth: $120.91 Error: $0.96 SLE: 0.00 Item: Fenix HP25R v2.0 USB-C Rechargeable Head...\u001b[0m\n",
      "\u001b[92m158: Guess: $169.99 Truth: $203.53 Error: $33.54 SLE: 0.03 Item: R&L Racing Heavy Duty Roll-Up Soft Tonne...\u001b[0m\n",
      "\u001b[92m159: Guess: $299.99 Truth: $349.99 Error: $50.00 SLE: 0.02 Item: Garmin 010-02258-10 GPSMAP 64sx, Handhel...\u001b[0m\n",
      "\u001b[92m160: Guess: $14.99 Truth: $34.35 Error: $19.36 SLE: 0.63 Item: Brown 5-7/8\" X 8-1/2\" X 3/16\" Thick Heav...\u001b[0m\n",
      "\u001b[93m161: Guess: $299.99 Truth: $384.99 Error: $85.00 SLE: 0.06 Item: GAOMON PD2200 Pen Display & 20 Pen Nibs ...\u001b[0m\n",
      "\u001b[93m162: Guess: $278.00 Truth: $211.00 Error: $67.00 SLE: 0.08 Item: VXMOTOR for 97-03 Ford F150/F250 Lightdu...\u001b[0m\n",
      "\u001b[92m163: Guess: $99.99 Truth: $129.00 Error: $29.01 SLE: 0.06 Item: HP EliteBook 2540p Intel Core i7-640LM X...\u001b[0m\n",
      "\u001b[91m164: Guess: $29.95 Truth: $111.45 Error: $81.50 SLE: 1.66 Item: Green EPX Mixing Nozzles 100-Pack-fits 3...\u001b[0m\n",
      "\u001b[92m165: Guess: $62.75 Truth: $81.12 Error: $18.37 SLE: 0.06 Item: Box Partners 6 1/4 x 3 1/8\" 13 Pt. Manil...\u001b[0m\n",
      "\u001b[92m166: Guess: $399.99 Truth: $457.08 Error: $57.09 SLE: 0.02 Item: Vixen Air 1/2\" NPT Air Ride Suspension H...\u001b[0m\n",
      "\u001b[92m167: Guess: $53.99 Truth: $49.49 Error: $4.50 SLE: 0.01 Item: Smart Floor Lamp, 2700-6500K+RGBPink Mul...\u001b[0m\n",
      "\u001b[93m168: Guess: $29.99 Truth: $80.56 Error: $50.57 SLE: 0.94 Item: SOZG 324mm Wheelbase Body Shell RC Car B...\u001b[0m\n",
      "\u001b[92m169: Guess: $319.99 Truth: $278.39 Error: $41.60 SLE: 0.02 Item: Mickey Thompson ET Street S/S Racing Rad...\u001b[0m\n",
      "\u001b[92m170: Guess: $375.50 Truth: $364.50 Error: $11.00 SLE: 0.00 Item: Pirelli 275/40R20 106W XL RFT P0 PZ4-LUX...\u001b[0m\n",
      "\u001b[92m171: Guess: $451.23 Truth: $378.99 Error: $72.24 SLE: 0.03 Item: Torklift C3212 Rear Tie Down\u001b[0m\n",
      "\u001b[92m172: Guess: $165.26 Truth: $165.28 Error: $0.02 SLE: 0.00 Item: Cardone 78-4226 Remanufactured Ford Comp...\u001b[0m\n",
      "\u001b[92m173: Guess: $42.00 Truth: $56.74 Error: $14.74 SLE: 0.09 Item: Kidde AccessPoint 001798 Supra TouchPoin...\u001b[0m\n",
      "\u001b[92m174: Guess: $350.00 Truth: $307.95 Error: $42.05 SLE: 0.02 Item: 3M Protecta 3100414 Self Retracting Life...\u001b[0m\n",
      "\u001b[92m175: Guess: $42.00 Truth: $38.00 Error: $4.00 SLE: 0.01 Item: Plantronics 89435-01 Wired Headset, Blac...\u001b[0m\n",
      "\u001b[92m176: Guess: $59.99 Truth: $53.00 Error: $6.99 SLE: 0.01 Item: Logitech K750 Wireless Solar Keyboard fo...\u001b[0m\n",
      "\u001b[92m177: Guess: $498.00 Truth: $498.00 Error: $0.00 SLE: 0.00 Item: Olympus PEN E-PL9 Body Only with 3-Inch ...\u001b[0m\n",
      "\u001b[91m178: Guess: $136.78 Truth: $53.99 Error: $82.79 SLE: 0.84 Item: Beck/Arnley 051-6066 Hub & Bearing Assem...\u001b[0m\n",
      "\u001b[92m179: Guess: $340.00 Truth: $350.00 Error: $10.00 SLE: 0.00 Item: Eibach Pro-Kit Performance Springs E10-6...\u001b[0m\n",
      "\u001b[92m180: Guess: $279.99 Truth: $299.95 Error: $19.96 SLE: 0.00 Item: LEGO DC Batman 1989 Batwing 76161 Displa...\u001b[0m\n",
      "\u001b[92m181: Guess: $120.75 Truth: $94.93 Error: $25.82 SLE: 0.06 Item: Kingston Brass KS3608PL Restoration 4-In...\u001b[0m\n",
      "\u001b[92m182: Guess: $329.00 Truth: $379.00 Error: $50.00 SLE: 0.02 Item: Polk Vanishing Series 265-LS In-Wall 3-W...\u001b[0m\n",
      "\u001b[92m183: Guess: $249.95 Truth: $299.95 Error: $50.00 SLE: 0.03 Item: Spec-D Tuning LED Projector Headlights G...\u001b[0m\n",
      "\u001b[92m184: Guess: $24.99 Truth: $24.99 Error: $0.00 SLE: 0.00 Item: RICHMOND & FINCH Airpod Pro Case, Green ...\u001b[0m\n",
      "\u001b[93m185: Guess: $89.75 Truth: $41.04 Error: $48.71 SLE: 0.59 Item: LFA Industries 43B-5A-33JT 1/16-1/2-1.5-...\u001b[0m\n",
      "\u001b[92m186: Guess: $269.99 Truth: $327.90 Error: $57.91 SLE: 0.04 Item: SAUTVS LED Headlight Assembly for Slings...\u001b[0m\n",
      "\u001b[92m187: Guess: $18.75 Truth: $10.99 Error: $7.76 SLE: 0.25 Item: 2 Pack Combo Womens Safety Glasses Impac...\u001b[0m\n",
      "\u001b[92m188: Guess: $14.99 Truth: $14.99 Error: $0.00 SLE: 0.00 Item: Arepa - Venezuelan cuisine - Venezuela P...\u001b[0m\n",
      "\u001b[93m189: Guess: $36.75 Truth: $84.95 Error: $48.20 SLE: 0.68 Item: Schlage Lock Company KS23D2300 Padlock, ...\u001b[0m\n",
      "\u001b[92m190: Guess: $88.45 Truth: $111.00 Error: $22.55 SLE: 0.05 Item: Techni Mobili White Sit to Stand Mobile ...\u001b[0m\n",
      "\u001b[93m191: Guess: $195.00 Truth: $123.73 Error: $71.27 SLE: 0.20 Item: Special Lite Products Contemporary Wall ...\u001b[0m\n",
      "\u001b[92m192: Guess: $649.99 Truth: $557.38 Error: $92.61 SLE: 0.02 Item: Tascam DP-24SD 24-Track Digital Portastu...\u001b[0m\n",
      "\u001b[92m193: Guess: $95.00 Truth: $95.55 Error: $0.55 SLE: 0.00 Item: Glow Lighting 636CC10SP Vista Crystal Fl...\u001b[0m\n",
      "\u001b[93m194: Guess: $195.00 Truth: $154.00 Error: $41.00 SLE: 0.06 Item: Z3 Wind Deflector, Smoke Tint, Lexan, Wi...\u001b[0m\n",
      "\u001b[92m195: Guess: $199.00 Truth: $198.99 Error: $0.01 SLE: 0.00 Item: Olympus E-20 5MP Digital Camera w/ 4x Op...\u001b[0m\n",
      "\u001b[91m196: Guess: $198.00 Truth: $430.44 Error: $232.44 SLE: 0.60 Item: PHYNEDI 1:1000 World Trade Center (1973-...\u001b[0m\n",
      "\u001b[92m197: Guess: $19.99 Truth: $45.67 Error: $25.68 SLE: 0.64 Item: YANGHUAN Unstable Unicorns Adventure Car...\u001b[0m\n",
      "\u001b[92m198: Guess: $249.99 Truth: $249.00 Error: $0.99 SLE: 0.00 Item: Interlogix NX-1820E NetworX Touch Screen...\u001b[0m\n",
      "\u001b[92m199: Guess: $25.99 Truth: $42.99 Error: $17.00 SLE: 0.24 Item: Steering Damper,Universal Motorcycle Han...\u001b[0m\n",
      "\u001b[91m200: Guess: $410.00 Truth: $181.33 Error: $228.67 SLE: 0.66 Item: Amprobe TIC 410A Hot Stick Attachment\u001b[0m\n",
      "\u001b[92m201: Guess: $1.50 Truth: $6.03 Error: $4.53 SLE: 1.07 Item: MyCableMart 3.5mm Plug/Jack, 4 Conductor...\u001b[0m\n",
      "\u001b[92m202: Guess: $39.95 Truth: $29.99 Error: $9.96 SLE: 0.08 Item: OtterBox + Pop Symmetry Series Case for ...\u001b[0m\n",
      "\u001b[91m203: Guess: $499.00 Truth: $899.00 Error: $400.00 SLE: 0.35 Item: Dell XPS X8700-1572BLK Desktop ( Intel C...\u001b[0m\n",
      "\u001b[93m204: Guess: $499.99 Truth: $399.99 Error: $100.00 SLE: 0.05 Item: Franklin Iron Works Sperry Industrial Br...\u001b[0m\n",
      "\u001b[92m205: Guess: $19.99 Truth: $4.66 Error: $15.33 SLE: 1.72 Item: Avery Legal Dividers, Standard Collated ...\u001b[0m\n",
      "\u001b[91m206: Guess: $372.40 Truth: $261.41 Error: $110.99 SLE: 0.12 Item: Moen 8346 Commercial Posi-Temp Pressure ...\u001b[0m\n",
      "\u001b[92m207: Guess: $129.99 Truth: $136.97 Error: $6.98 SLE: 0.00 Item: Carlisle Versa Trail ATR All Terrain Rad...\u001b[0m\n",
      "\u001b[91m208: Guess: $209.00 Truth: $79.00 Error: $130.00 SLE: 0.93 Item: SUNWAYFOTO 44mm Tripod Ball Head Arca Co...\u001b[0m\n",
      "\u001b[92m209: Guess: $379.99 Truth: $444.99 Error: $65.00 SLE: 0.02 Item: NanoBeam AC NBE-5AC-Gen2-US 4 Units 5GHz...\u001b[0m\n",
      "\u001b[92m210: Guess: $375.00 Truth: $411.94 Error: $36.94 SLE: 0.01 Item: WULF 4\" Front 2\" Rear Leveling Lift Kit ...\u001b[0m\n",
      "\u001b[91m211: Guess: $310.00 Truth: $148.40 Error: $161.60 SLE: 0.54 Item: Alera ALEVABFMC Valencia Series Mobile B...\u001b[0m\n",
      "\u001b[91m212: Guess: $89.99 Truth: $244.99 Error: $155.00 SLE: 0.99 Item: YU-GI-OH! Ignition Assault Booster Box\u001b[0m\n",
      "\u001b[92m213: Guess: $75.00 Truth: $86.50 Error: $11.50 SLE: 0.02 Item: 48\" x 36\" Extra-Large Framed Magnetic Bl...\u001b[0m\n",
      "\u001b[91m214: Guess: $75.00 Truth: $297.95 Error: $222.95 SLE: 1.88 Item: Dell Latitude D620 Renewed Notebook PC\u001b[0m\n",
      "\u001b[93m215: Guess: $529.99 Truth: $399.99 Error: $130.00 SLE: 0.08 Item: acer Aspire 5 Laptop, AMD Ryzen 3 5300U ...\u001b[0m\n",
      "\u001b[93m216: Guess: $781.01 Truth: $599.00 Error: $182.01 SLE: 0.07 Item: Elk 31080/6RC-GRN 30 by 6-Inch Viva 6-Li...\u001b[0m\n",
      "\u001b[93m217: Guess: $45.00 Truth: $105.99 Error: $60.99 SLE: 0.71 Item: Barbie Top Model Doll\u001b[0m\n",
      "\u001b[91m218: Guess: $399.99 Truth: $689.00 Error: $289.01 SLE: 0.29 Item: Danby Designer 20-In. Electric Range wit...\u001b[0m\n",
      "\u001b[91m219: Guess: $204.57 Truth: $404.99 Error: $200.42 SLE: 0.46 Item: FixtureDisplays® Metal Truss Podium Doub...\u001b[0m\n",
      "\u001b[92m220: Guess: $216.75 Truth: $207.76 Error: $8.99 SLE: 0.00 Item: ACDelco 13597235 GM Original Equipment A...\u001b[0m\n",
      "\u001b[91m221: Guess: $280.00 Truth: $171.82 Error: $108.18 SLE: 0.24 Item: EBC S1KF1135 Stage-1 Premium Street Brak...\u001b[0m\n",
      "\u001b[92m222: Guess: $295.99 Truth: $293.24 Error: $2.75 SLE: 0.00 Item: FXR Men's Boost FX Jacket (Black/Orange/...\u001b[0m\n",
      "\u001b[93m223: Guess: $299.95 Truth: $374.95 Error: $75.00 SLE: 0.05 Item: SuperATV Scratch Resistant 3-in-1 Flip W...\u001b[0m\n",
      "\u001b[92m224: Guess: $110.00 Truth: $111.99 Error: $1.99 SLE: 0.00 Item: SBU 3 Layer All Weather Mini Van Car Cov...\u001b[0m\n",
      "\u001b[92m225: Guess: $29.99 Truth: $42.99 Error: $13.00 SLE: 0.12 Item: 2 Pack Outdoor Brochure Holder Advertisi...\u001b[0m\n",
      "\u001b[92m226: Guess: $121.75 Truth: $116.71 Error: $5.04 SLE: 0.00 Item: Monroe Shocks & Struts Quick-Strut 17158...\u001b[0m\n",
      "\u001b[92m227: Guess: $118.10 Truth: $118.61 Error: $0.51 SLE: 0.00 Item: Elements of Design Magellan EB235AL Thre...\u001b[0m\n",
      "\u001b[92m228: Guess: $165.00 Truth: $147.12 Error: $17.88 SLE: 0.01 Item: GM Genuine Parts 15-62961 Air Conditioni...\u001b[0m\n",
      "\u001b[93m229: Guess: $159.99 Truth: $119.99 Error: $40.00 SLE: 0.08 Item: Baseus 17-in-1 USB C Docking Station to ...\u001b[0m\n",
      "\u001b[92m230: Guess: $382.45 Truth: $369.98 Error: $12.47 SLE: 0.00 Item: Whitehall™ Personalized Whitehall Capito...\u001b[0m\n",
      "\u001b[92m231: Guess: $299.95 Truth: $315.55 Error: $15.60 SLE: 0.00 Item: Pro Circuit Works Pipe PY05250 for 02-19...\u001b[0m\n",
      "\u001b[91m232: Guess: $289.99 Truth: $190.99 Error: $99.00 SLE: 0.17 Item: HYANKA 15 \"1200W Professional DJ Speaker...\u001b[0m\n",
      "\u001b[92m233: Guess: $175.00 Truth: $155.00 Error: $20.00 SLE: 0.01 Item: Bluetooth X6BT Card Reader Writer Encode...\u001b[0m\n",
      "\u001b[92m234: Guess: $389.99 Truth: $349.99 Error: $40.00 SLE: 0.01 Item: AIRAID Cold Air Intake System by K&N: In...\u001b[0m\n",
      "\u001b[92m235: Guess: $229.99 Truth: $249.99 Error: $20.00 SLE: 0.01 Item: Bostingner Shower Faucets Sets Complete,...\u001b[0m\n",
      "\u001b[92m236: Guess: $41.99 Truth: $42.99 Error: $1.00 SLE: 0.00 Item: PIT66 Front Bumper Turn Signal Lights, C...\u001b[0m\n",
      "\u001b[92m237: Guess: $14.99 Truth: $17.99 Error: $3.00 SLE: 0.03 Item: Caseology Bumpy Compatible with Google P...\u001b[0m\n",
      "\u001b[91m238: Guess: $195.00 Truth: $425.00 Error: $230.00 SLE: 0.60 Item: Fleck 2510 Timer Mechanical Filter Contr...\u001b[0m\n",
      "\u001b[92m239: Guess: $259.99 Truth: $249.99 Error: $10.00 SLE: 0.00 Item: Haloview MC7108 Wireless RV Backup Camer...\u001b[0m\n",
      "\u001b[91m240: Guess: $45.00 Truth: $138.23 Error: $93.23 SLE: 1.23 Item: Schmidt Spiele - Manhattan\u001b[0m\n",
      "\u001b[91m241: Guess: $159.99 Truth: $414.99 Error: $255.00 SLE: 0.90 Item: Corsa 14333 Tip Kit (Ford Mustang GT)\u001b[0m\n",
      "\u001b[92m242: Guess: $180.00 Truth: $168.28 Error: $11.72 SLE: 0.00 Item: Hoshizaki FM116A Fan Motor Kit 1\u001b[0m\n",
      "\u001b[93m243: Guess: $254.99 Truth: $199.99 Error: $55.00 SLE: 0.06 Item: BAINUO Antler Chandelier Lighting,6 Ligh...\u001b[0m\n",
      "\u001b[91m244: Guess: $219.99 Truth: $126.70 Error: $93.29 SLE: 0.30 Item: DNA MOTORING HL-OH-FEXP06-SM-AM Smoke Le...\u001b[0m\n",
      "\u001b[92m245: Guess: $15.99 Truth: $5.91 Error: $10.08 SLE: 0.81 Item: Wera Stainless 3840/1 TS 2.5mm Hex Inser...\u001b[0m\n",
      "\u001b[92m246: Guess: $199.95 Truth: $193.06 Error: $6.89 SLE: 0.00 Item: Celestron - PowerSeeker 127EQ Telescope ...\u001b[0m\n",
      "\u001b[91m247: Guess: $138.99 Truth: $249.99 Error: $111.00 SLE: 0.34 Item: NHOPEEW 10.1inch Android Car Radio Carpl...\u001b[0m\n",
      "\u001b[93m248: Guess: $142.00 Truth: $64.12 Error: $77.88 SLE: 0.62 Item: Other Harmonica (Suzuki-2Timer24- A)\u001b[0m\n",
      "\u001b[91m249: Guess: $215.00 Truth: $114.99 Error: $100.01 SLE: 0.39 Item: Harley Air Filter Venturi Intake Air Cle...\u001b[0m\n",
      "\u001b[93m250: Guess: $698.00 Truth: $926.00 Error: $228.00 SLE: 0.08 Item: Elite Screens Edge Free Ambient Light Re...\u001b[0m\n"
     ]
    },
    {
     "data": {
      "image/png": "[encoded data removed]",
      "text/plain": [
       "<Figure size 1200x800 with 1 Axes>"
      ]
     },
     "metadata": {},
     "output_type": "display_data"
    }
   ],
   "source": [
    "Tester.test(gpt_4_mini_rag, test)"
   ]
  },
  {
   "cell_type": "code",
   "execution_count": null,
   "id": "7855bbf4-1405-4018-825a-18f40c40617c",
   "metadata": {},
   "outputs": [],
   "source": []
  },
  {
   "cell_type": "code",
   "execution_count": null,
   "id": "64f50bf4-2723-4f04-af6e-b33ca913d0ef",
   "metadata": {},
   "outputs": [],
   "source": []
  },
  {
   "cell_type": "code",
   "execution_count": null,
   "id": "49fb62d8-89b1-48b0-b231-e7b656090029",
   "metadata": {},
   "outputs": [],
   "source": []
  },
  {
   "cell_type": "code",
   "execution_count": null,
   "id": "edb6dfe0-8467-43fb-a482-23f3e21f8e7e",
   "metadata": {},
   "outputs": [],
   "source": []
  }
 ],
 "metadata": {
  "kernelspec": {
   "display_name": "Python 3 (ipykernel)",
   "language": "python",
   "name": "python3"
  },
  "language_info": {
   "codemirror_mode": {
    "name": "ipython",
    "version": 3
   },
   "file_extension": ".py",
   "mimetype": "text/x-python",
   "name": "python",
   "nbconvert_exporter": "python",
   "pygments_lexer": "ipython3",
   "version": "3.11.13"
  }
 },
 "nbformat": 4,
 "nbformat_minor": 5
}
